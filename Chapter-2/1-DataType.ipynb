{
 "cells": [
  {
   "cell_type": "markdown",
   "id": "9204b8b5-bccf-41ad-ba82-9085e9b8f5af",
   "metadata": {},
   "source": [
    "# Chapter 2 : 자료형\n",
    "\n",
    "파이썬에서 다루는 기본 자료형을 배워보자"
   ]
  },
  {
   "cell_type": "markdown",
   "id": "2178d8b5-d60e-4afe-9f2a-ac8e726fb13e",
   "metadata": {},
   "source": [
    "## 1. 숫자 자료형\n",
    "\n",
    "- 파이썬에서는 다음과 같은 숫자 자료형을 지원한다.\n",
    "    - int : 정수\n",
    "    - float : 실수\n",
    "\n",
    "---\n",
    "※ 참고-1 : print() 는 화면에 데이터를 출력하는 함수입니다. 함수는 나중에 자세히 배울 겁니다.\n",
    "\n",
    "※ 참고-2 : type() 함수를 사용하면 변수의 자료형을 확인할 수 있습니다."
   ]
  },
  {
   "cell_type": "code",
   "execution_count": 1,
   "id": "2e068cb3-c3a7-4932-8d8e-f8a467f40b81",
   "metadata": {},
   "outputs": [
    {
     "name": "stdout",
     "output_type": "stream",
     "text": [
      "7 <class 'int'>\n",
      "3.14 <class 'float'>\n"
     ]
    }
   ],
   "source": [
    "number = 7\n",
    "print(number, type(number))\n",
    "\n",
    "pi = 3.14\n",
    "print(pi, type(pi))"
   ]
  },
  {
   "cell_type": "code",
   "execution_count": 2,
   "id": "2c311972-4689-493c-96d6-934279d0cfcb",
   "metadata": {},
   "outputs": [
    {
     "name": "stdout",
     "output_type": "stream",
     "text": [
      "6500\n",
      "0.5\n"
     ]
    }
   ],
   "source": [
    "# 연산자는 나중에 자세히 배울 겁니다\n",
    "\n",
    "cost = 5000 + 1500\n",
    "print(cost)\n",
    "\n",
    "value = 0.25\n",
    "print(value * 2)"
   ]
  },
  {
   "cell_type": "markdown",
   "id": "12f9189c-92e3-48d7-9e1b-e1f37a81bd15",
   "metadata": {},
   "source": [
    "## 2. 문자열 자료형\n",
    "\n",
    "- 문자열 자료는 큰 따옴표(\") 또는 작은 따옴표(')로 감싸서 표현할 수 있다\n",
    "- 코드 가독성을 위해 보통 한 가지 방법을 통일하여 사용한다"
   ]
  },
  {
   "cell_type": "code",
   "execution_count": 3,
   "id": "f2237e24-06d7-468a-b083-3d77e7615e46",
   "metadata": {},
   "outputs": [
    {
     "name": "stdout",
     "output_type": "stream",
     "text": [
      "Hello World!\n",
      "Python is awesome! <class 'str'>\n"
     ]
    }
   ],
   "source": [
    "print(\"Hello World!\")\n",
    "\n",
    "message = 'Python is awesome!'\n",
    "print(message, type(message))"
   ]
  },
  {
   "cell_type": "code",
   "execution_count": 4,
   "id": "8efdba0a-2ab7-45a1-8c67-2abb3eb7a4f4",
   "metadata": {},
   "outputs": [
    {
     "name": "stdout",
     "output_type": "stream",
     "text": [
      "My name is 홍길동\n",
      "콩진호 콩진호 콩진호 콩진호 \n"
     ]
    }
   ],
   "source": [
    "# 연산자는 나중에 자세히 배울 겁니다\n",
    "\n",
    "message = 'My name is ' + '홍길동'\n",
    "print(message)\n",
    "\n",
    "message = '콩진호 ' * 2 * 2\n",
    "print(message)"
   ]
  },
  {
   "cell_type": "markdown",
   "id": "04d64734-e0d5-4760-98b3-a1633d2023b0",
   "metadata": {},
   "source": [
    "## 3. Boolean 자료형\n",
    "\n",
    "- \"참/거짓\"을 표현하는 자료형이다\n",
    "- 주로 조건문에서 사용된다 (조건문은 추후 학습)"
   ]
  },
  {
   "cell_type": "code",
   "execution_count": 5,
   "id": "49eb4b0e-1d08-45ef-9485-ae746e8449f0",
   "metadata": {},
   "outputs": [
    {
     "name": "stdout",
     "output_type": "stream",
     "text": [
      "True\n",
      "False <class 'bool'>\n"
     ]
    }
   ],
   "source": [
    "print(True)\n",
    "\n",
    "result = (100 < 10)\n",
    "print(result, type(result))"
   ]
  },
  {
   "cell_type": "markdown",
   "id": "7831e5b1-329d-420a-af93-1d622e0e3a4d",
   "metadata": {},
   "source": [
    "## 4. 변수\n",
    "\n",
    "- 변수란, 상자에 데이터를 저장하고 상자에 이름을 지어주는 것과 같다\n",
    "- 상자의 내용물이 다른 것으로 바뀔 수 있으므로 \"변할 수 있는 수\", \"변수\" 라고 한다\n",
    "```python\n",
    "장바구니 = '김밥'\n",
    "지갑 = 5000\n",
    "```\n",
    "\n",
    "---\n",
    "※ 참고 : `'김밥'`, `5000` 처럼 코드에서 이미 정해진 값은 \"상수\" 라고 한다\n",
    "\n",
    "---\n",
    "- 이름은 한글을 사용할 수 있지만, 에러 방지를 위해 가급적 영어를 사용한다\n",
    "```python\n",
    "이름 = '홍길동'  # Hmm...\n",
    "name = '홍길동'  # Good!\n",
    "```\n",
    "\n",
    "- 변수 이름을 지어줄 때 다음과 같은 규칙을 지켜야 한다\n",
    "    - 대/소문자를 구분한다<br>\n",
    "    `Name`과 `name`은 다른 변수\n",
    "\n",
    "    - 변수 이름은 \"문자\", \"숫자\" 또는 \"언더스코어( _ )\" 만 사용할 수 있다<br>\n",
    "    가능 : `cost = 3000`, `_count = 5`<br>\n",
    "    불가능 : `sec% = 30`, `it!em = 1.2`\n",
    "\n",
    "    - 변수 이름의 시작은 \"문자\" 또는 \"언더스코어( _ )\" 만 사용할 수 있다<br>\n",
    "    불가능 : `32th = 'backpack'`, `~date = '12/25'`\n",
    "\n",
    "    - \"예약어\"를 변수 이름으로 사용하는 것은 피한다<br>\n",
    "    예약어 : 언어에서 기본 제공하는 키워드 (`print`, `int` 등)\n",
    "\n",
    "- 변수 이름을 지어줄 때 \"의미\"를 부여하자 (가독성 향상)"
   ]
  },
  {
   "cell_type": "code",
   "execution_count": 6,
   "id": "4ca04fa2-3479-4985-a589-e5f37b13e35e",
   "metadata": {},
   "outputs": [
    {
     "name": "stdout",
     "output_type": "stream",
     "text": [
      "홍길동\n",
      "머스크\n"
     ]
    }
   ],
   "source": [
    "my_name = '홍길동'\n",
    "print(my_name)\n",
    "\n",
    "my_name = '머스크'\n",
    "print(my_name)"
   ]
  },
  {
   "cell_type": "markdown",
   "id": "ff1d3a03-3d27-48fb-aa9c-e4a8c6f8d087",
   "metadata": {},
   "source": [
    "## 별첨. 주석(Comment)\n",
    "\n",
    "- 코드에 설명, 메모 등을 추가하기 위한 방법이다\n",
    "- 프로그램이 실행될 때, 주석 안에 내용은 실행되지 않는다\n",
    "- 주로 복잡한 수식이나, 함수의 간단한 설명이 필요할 때 사용한다\n",
    "- 한 줄 주석은 `샵(#)`, 여러 줄 주석은 `큰/작은 따옴표 3개 연속(\"\"\")`으로 표현한다\n",
    "\n",
    "```python\n",
    "# 이것은 주석입니다\n",
    "# '*'을 이용하여 n x m 사각형을 출력하는 함수\n",
    "def show_rect(n, m):\n",
    "    for i in range(m):\n",
    "        for j in range(n):\n",
    "            print('*', end='')\n",
    "        print('')\n",
    "\n",
    "show_rect(5, 3)\n",
    "\"\"\" 출력 예시, 이것도 주석입니다\n",
    "*****\n",
    "*****\n",
    "*****\n",
    "\"\"\"\n",
    "```"
   ]
  },
  {
   "cell_type": "code",
   "execution_count": 7,
   "id": "ca5ae22f-96bc-4440-bcfe-818b5c55496f",
   "metadata": {},
   "outputs": [
    {
     "name": "stdout",
     "output_type": "stream",
     "text": [
      "Python is awesome!\n",
      "Hello World!\n"
     ]
    }
   ],
   "source": [
    "# 아래 코드는 실행되지 않습니다\n",
    "# print('Hello World!')\n",
    "print('Python is awesome!')\n",
    "\n",
    "# 샵은 여러 개를 중복해서 쓸 수 있습니다\n",
    "# 이후에 모든 글자는 전부 주석으로 처리되거든요\n",
    "## # ## print('This is comment')\n",
    "\n",
    "\"\"\"\n",
    "이 안에 코드는 실행되지 않습니다\n",
    "print('Hello World!')\n",
    "print('Python is awesome!')\n",
    "print(\"This is comment\")\n",
    "\"\"\"\n",
    "print('Hello World!')"
   ]
  },
  {
   "cell_type": "code",
   "execution_count": 8,
   "id": "3c4140e0-c523-41f6-b5a0-cbd1808d19b8",
   "metadata": {},
   "outputs": [
    {
     "ename": "SyntaxError",
     "evalue": "unterminated triple-quoted string literal (detected at line 7) (1872661686.py, line 7)",
     "output_type": "error",
     "traceback": [
      "\u001b[1;36m  Cell \u001b[1;32mIn[8], line 7\u001b[1;36m\u001b[0m\n\u001b[1;33m    '''\u001b[0m\n\u001b[1;37m    ^\u001b[0m\n\u001b[1;31mSyntaxError\u001b[0m\u001b[1;31m:\u001b[0m unterminated triple-quoted string literal (detected at line 7)\n"
     ]
    }
   ],
   "source": [
    "'''\n",
    "여러 줄 주석을 사용할 때는\n",
    "시작과 끝에 사용하는 기호를\n",
    "'''\n",
    "주석 내부에서 사용하지 않도록\n",
    "주의하세요!!!\n",
    "'''"
   ]
  }
 ],
 "metadata": {
  "kernelspec": {
   "display_name": "Python 3 (ipykernel)",
   "language": "python",
   "name": "python3"
  },
  "language_info": {
   "codemirror_mode": {
    "name": "ipython",
    "version": 3
   },
   "file_extension": ".py",
   "mimetype": "text/x-python",
   "name": "python",
   "nbconvert_exporter": "python",
   "pygments_lexer": "ipython3",
   "version": "3.12.2"
  }
 },
 "nbformat": 4,
 "nbformat_minor": 5
}
