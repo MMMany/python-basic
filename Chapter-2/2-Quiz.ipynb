{
 "cells": [
  {
   "cell_type": "markdown",
   "id": "6925e1f8-8563-4263-9928-c5af25b854a6",
   "metadata": {},
   "source": [
    "# Quiz.1 : 변수를 이용하여 다음 문장을 출력하시오\n",
    "\n",
    "- 변수 이름 : time_ramain, station\n",
    "- 변수 값\n",
    "    - time_remain : 3, 5, 10 을 순서대로 입력\n",
    "    - station : '서울', '수서', '수원' 을 순서대로 입력\n",
    "- 출력 문장\n",
    "    - {time_remain} 분 후 {station} 행 열차가 들어옵니다.\n",
    "\n",
    "---\n",
    "Hint : print() 함수에 데이터를 쉼표(,)로 구분하여 여러 개를 전달하면 공백으로 구분하여 출력합니다.\n",
    "```python\n",
    "print('파이(pi) 값은 보통', 3.14, '를 사용합니다.')  # 파이(pi) 값은 보통 3.14 를 사용합니다.\n",
    "```"
   ]
  },
  {
   "cell_type": "code",
   "execution_count": null,
   "id": "86213f00-8867-4d91-a726-d34a5571a8e8",
   "metadata": {},
   "outputs": [],
   "source": []
  },
  {
   "cell_type": "markdown",
   "id": "8c4df695-4fc7-4248-a27f-29edd3726d3d",
   "metadata": {},
   "source": [
    "# Quiz.2 : 변수를 이용하여 다음 조건에 따라 문장을 출력하시오\n",
    "\n",
    "- 변수 이름 : my_name\n",
    "- 변수 값\n",
    "    - '홍길동', '일론 머스크', '귀도 반 로섬' 을 순서대로 입력\n",
    "- 조건\n",
    "    - 변수 값을 출력 후, 다음 변수 값으로 바꿔서 출력하자\n",
    "- 출력 문장\n",
    "    - 내 이름은 {my_name} 입니다.\n",
    " \n",
    "---\n",
    "Hint : print() 함수에 데이터를 쉼표(,)로 구분하여 여러 개를 전달하면 공백으로 구분하여 출력합니다.\n",
    "```python\n",
    "print('파이(pi) 값은 보통', 3.14, '를 사용합니다.')  # 파이(pi) 값은 보통 3.14 를 사용합니다.\n",
    "```"
   ]
  },
  {
   "cell_type": "code",
   "execution_count": null,
   "id": "07acc971-8e94-4f2f-ae23-f86826093f6b",
   "metadata": {},
   "outputs": [],
   "source": []
  }
 ],
 "metadata": {
  "kernelspec": {
   "display_name": "Python 3 (ipykernel)",
   "language": "python",
   "name": "python3"
  },
  "language_info": {
   "codemirror_mode": {
    "name": "ipython",
    "version": 3
   },
   "file_extension": ".py",
   "mimetype": "text/x-python",
   "name": "python",
   "nbconvert_exporter": "python",
   "pygments_lexer": "ipython3",
   "version": "3.12.2"
  }
 },
 "nbformat": 4,
 "nbformat_minor": 5
}
