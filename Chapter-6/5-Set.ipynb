{
 "cells": [
  {
   "cell_type": "markdown",
   "metadata": {},
   "source": [
    "# Chapter 6 : 자료구조 (집합, set)\n",
    "\n",
    "- `집합(set)` : 순서가 없고, 원소를 수정할 수 있는 자료구조\n",
    "- 수학 집합의 성질을 가지고 있음\n",
    "  - 각 원소는 유일함(unique)"
   ]
  },
  {
   "cell_type": "markdown",
   "metadata": {},
   "source": [
    "## 1. 생성\n",
    "\n",
    "- 중괄호 `{}` 를 이용하여 생성"
   ]
  },
  {
   "cell_type": "code",
   "execution_count": 1,
   "metadata": {},
   "outputs": [
    {
     "name": "stdout",
     "output_type": "stream",
     "text": [
      "{200, 100, 400, 300}\n",
      "<class 'set'>\n"
     ]
    }
   ],
   "source": [
    "foods = {100, 200, 300, 400}\n",
    "print(foods)\n",
    "print(type(foods))"
   ]
  },
  {
   "cell_type": "markdown",
   "metadata": {},
   "source": [
    "## 2. 원소 접근\n",
    "\n",
    "- 집합은 각 원소에 직접 접근할 수 없다!! (순서를 모르기 때문)\n",
    "- 대신 멤버 연산자 `in` 을 사용하여 특정 값이 포함되어 있는지 알 수 있다."
   ]
  },
  {
   "cell_type": "code",
   "execution_count": 2,
   "metadata": {},
   "outputs": [
    {
     "name": "stdout",
     "output_type": "stream",
     "text": [
      "True\n",
      "False\n"
     ]
    }
   ],
   "source": [
    "foods = {'pizza', 'hamburger', 'pasta', 'salad'}\n",
    "print('pasta' in foods)\n",
    "print('sushi' in foods)"
   ]
  },
  {
   "cell_type": "markdown",
   "metadata": {},
   "source": [
    "## 3. 집합 수정\n",
    "\n",
    "- `set.add(U, D)` : 집합 `U` 에 데이터 `D` 를 추가"
   ]
  },
  {
   "cell_type": "code",
   "execution_count": 3,
   "metadata": {},
   "outputs": [
    {
     "name": "stdout",
     "output_type": "stream",
     "text": [
      "{'orange', 'apple', 'banana', 'grape'}\n",
      "{'orange', 'apple', 'banana', 'grape'}\n"
     ]
    }
   ],
   "source": [
    "fruits = {'banana', 'orange', 'apple'}\n",
    "set.add(fruits, 'grape')\n",
    "print(fruits)\n",
    "\n",
    "# 이미 포함된 값을 추가해도 변함 없음 : 유일성(unique)\n",
    "fruits.add('orange')\n",
    "print(fruits)"
   ]
  },
  {
   "cell_type": "markdown",
   "metadata": {},
   "source": [
    "- `set.remove(U, D)` : 집합 `U` 에서 데이터 `D` 를 찾아 제거\n",
    "- 해당 원소가 없는 경우, `KeyError` 예외 발생"
   ]
  },
  {
   "cell_type": "code",
   "execution_count": 4,
   "metadata": {},
   "outputs": [
    {
     "name": "stdout",
     "output_type": "stream",
     "text": [
      "{'pasta', 'hamburger'}\n"
     ]
    },
    {
     "ename": "KeyError",
     "evalue": "'salad'",
     "output_type": "error",
     "traceback": [
      "\u001b[1;31m---------------------------------------------------------------------------\u001b[0m",
      "\u001b[1;31mKeyError\u001b[0m                                  Traceback (most recent call last)",
      "Cell \u001b[1;32mIn[4], line 5\u001b[0m\n\u001b[0;32m      2\u001b[0m \u001b[38;5;28mset\u001b[39m\u001b[38;5;241m.\u001b[39mremove(foods, \u001b[38;5;124m'\u001b[39m\u001b[38;5;124mpizza\u001b[39m\u001b[38;5;124m'\u001b[39m)\n\u001b[0;32m      3\u001b[0m \u001b[38;5;28mprint\u001b[39m(foods)\n\u001b[1;32m----> 5\u001b[0m \u001b[43mfoods\u001b[49m\u001b[38;5;241;43m.\u001b[39;49m\u001b[43mremove\u001b[49m\u001b[43m(\u001b[49m\u001b[38;5;124;43m'\u001b[39;49m\u001b[38;5;124;43msalad\u001b[39;49m\u001b[38;5;124;43m'\u001b[39;49m\u001b[43m)\u001b[49m  \u001b[38;5;66;03m# KeyError\u001b[39;00m\n",
      "\u001b[1;31mKeyError\u001b[0m: 'salad'"
     ]
    }
   ],
   "source": [
    "foods = {'hamburger', 'pizza', 'pasta'}\n",
    "set.remove(foods, 'pizza')\n",
    "print(foods)\n",
    "\n",
    "foods.remove('salad')  # KeyError"
   ]
  },
  {
   "cell_type": "markdown",
   "metadata": {},
   "source": [
    "- `set.discard(U, D)` : 집합 `U` 에서 데이터 `D` 를 찾아 제거\n",
    "- `remove()` 와 달리, 데이터가 없으면 아무 일도 일어나지 않음"
   ]
  },
  {
   "cell_type": "code",
   "execution_count": 5,
   "metadata": {},
   "outputs": [
    {
     "name": "stdout",
     "output_type": "stream",
     "text": [
      "{10, 20}\n",
      "{10, 20}\n"
     ]
    }
   ],
   "source": [
    "scores = {10, 20, 30}\n",
    "scores.discard(30)\n",
    "print(scores)\n",
    "\n",
    "scores.discard(500)\n",
    "print(scores)"
   ]
  },
  {
   "cell_type": "markdown",
   "metadata": {},
   "source": [
    "## 4. 집합 연산\n",
    "\n",
    "- `set.union(A, B)` : 집합 `A`, `B` 의 합집합(union)\n",
    "- 연산자 `|` 로도 가능"
   ]
  },
  {
   "cell_type": "code",
   "execution_count": 6,
   "metadata": {},
   "outputs": [
    {
     "name": "stdout",
     "output_type": "stream",
     "text": [
      "{400, 100, 200, 600, 300}\n",
      "{400, 100, 200, 600, 300}\n",
      "{400, 100, 200, 600, 300}\n"
     ]
    }
   ],
   "source": [
    "set_A = {100, 200, 300}\n",
    "set_B = {200, 400, 600}\n",
    "print(set.union(set_A, set_B))\n",
    "print(set_A.union(set_B))\n",
    "print(set_A | set_B)"
   ]
  },
  {
   "cell_type": "markdown",
   "metadata": {},
   "source": [
    "- `set.difference(A, B)` : 집합 `A`, `B` 의 차집합(difference)\n",
    "- 연산자 `-` 로도 가능"
   ]
  },
  {
   "cell_type": "code",
   "execution_count": 7,
   "metadata": {},
   "outputs": [
    {
     "name": "stdout",
     "output_type": "stream",
     "text": [
      "{100, 300}\n",
      "{100, 300}\n",
      "{100, 300}\n"
     ]
    }
   ],
   "source": [
    "set_A = {100, 200, 300}\n",
    "set_B = {200, 400, 600}\n",
    "print(set.difference(set_A, set_B))\n",
    "print(set_A.difference(set_B))\n",
    "print(set_A - set_B)"
   ]
  },
  {
   "cell_type": "markdown",
   "metadata": {},
   "source": [
    "- `set.intersection(A, B)` : 집합 `A`, `B` 의 교집합(intersection)\n",
    "- 연산자 `&` 로도 가능"
   ]
  },
  {
   "cell_type": "code",
   "execution_count": 8,
   "metadata": {},
   "outputs": [
    {
     "name": "stdout",
     "output_type": "stream",
     "text": [
      "{200}\n",
      "{200}\n",
      "{200}\n"
     ]
    }
   ],
   "source": [
    "set_A = {100, 200, 300}\n",
    "set_B = {200, 400, 600}\n",
    "print(set.intersection(set_A, set_B))\n",
    "print(set_A.intersection(set_B))\n",
    "print(set_A & set_B)"
   ]
  },
  {
   "cell_type": "markdown",
   "metadata": {},
   "source": [
    "- `set.symmetric_difference(A, B)` : 집합 `A`, `B` 의 대칭차집합(symmetric difference)\n",
    "- 연산자 `^` 로도 가능"
   ]
  },
  {
   "cell_type": "code",
   "execution_count": 9,
   "metadata": {},
   "outputs": [
    {
     "name": "stdout",
     "output_type": "stream",
     "text": [
      "{100, 300, 400, 600}\n",
      "{100, 300, 400, 600}\n"
     ]
    }
   ],
   "source": [
    "set_A = {100, 200, 300}\n",
    "set_B = {200, 400, 600}\n",
    "print(set.symmetric_difference(set_A, set_B))\n",
    "print(set_A ^ set_B)"
   ]
  },
  {
   "cell_type": "markdown",
   "metadata": {},
   "source": [
    "- `set.isdisjoint(A, B)` : 집합 `A`, `B` 가 서로소 집합인지 여부 반환"
   ]
  },
  {
   "cell_type": "code",
   "execution_count": 10,
   "metadata": {},
   "outputs": [
    {
     "name": "stdout",
     "output_type": "stream",
     "text": [
      "False\n",
      "True\n"
     ]
    }
   ],
   "source": [
    "set_A = {100, 200, 300}\n",
    "set_B = {200, 400, 600}\n",
    "print(set.isdisjoint(set_A, set_B))\n",
    "\n",
    "set_A = {100, 200}\n",
    "set_B = {300, 400}\n",
    "print(set_A.isdisjoint(set_B))"
   ]
  },
  {
   "cell_type": "markdown",
   "metadata": {},
   "source": [
    "- `set.issuperset(A, B)` : 집합 `A` 가 집합 `B` 를 포함하는지 여부 반환\n",
    "- 연산자 `>=` 로도 가능\n",
    "- `set.issubset(A, B)` : 집합 `A` 가 집합 `B` 의 부분집합인지 여부 반환\n",
    "- 연산자 `<=` 로도 가능"
   ]
  },
  {
   "cell_type": "code",
   "execution_count": 11,
   "metadata": {},
   "outputs": [
    {
     "name": "stdout",
     "output_type": "stream",
     "text": [
      "True\n",
      "True\n",
      "False\n",
      "False\n"
     ]
    }
   ],
   "source": [
    "set_A = {100, 200, 300}\n",
    "set_B = {200, 300}\n",
    "print(set.issuperset(set_A, set_B))\n",
    "print(set_A >= set_B)\n",
    "\n",
    "set_A = {100, 200, 300}\n",
    "set_B = {100, 300, 500, 600}\n",
    "print(set_A.issubset(set_B))\n",
    "print(set_A <= set_B)"
   ]
  },
  {
   "cell_type": "markdown",
   "metadata": {},
   "source": [
    "> ※ 참고\n",
    ">\n",
    "> 연산자 `A > B` : 집합 `A` 에 집합 `B` 가 포함되어 있는지 여부, 서로 같은 집합이면 `False`\n",
    ">\n",
    "> 연산자 `A < B` : 집합 `A` 가 집합 `B` 에 포함되어 있는지 여부, 서로 같은 집합이면 `False`"
   ]
  },
  {
   "cell_type": "code",
   "execution_count": 12,
   "metadata": {},
   "outputs": [
    {
     "name": "stdout",
     "output_type": "stream",
     "text": [
      "True\n",
      "False\n"
     ]
    }
   ],
   "source": [
    "set_A = {100, 200, 300}\n",
    "set_B = {100, 200, 300}\n",
    "print(set_A >= set_B)\n",
    "print(set_A > set_B)"
   ]
  }
 ],
 "metadata": {
  "kernelspec": {
   "display_name": ".venv",
   "language": "python",
   "name": "python3"
  },
  "language_info": {
   "codemirror_mode": {
    "name": "ipython",
    "version": 3
   },
   "file_extension": ".py",
   "mimetype": "text/x-python",
   "name": "python",
   "nbconvert_exporter": "python",
   "pygments_lexer": "ipython3",
   "version": "3.12.2"
  }
 },
 "nbformat": 4,
 "nbformat_minor": 2
}
