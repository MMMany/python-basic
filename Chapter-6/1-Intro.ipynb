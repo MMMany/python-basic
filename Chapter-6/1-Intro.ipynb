{
 "cells": [
  {
   "cell_type": "markdown",
   "metadata": {},
   "source": [
    "# Chapter 6 : 자료구조 (소개)\n",
    "\n",
    "파이썬에서 기본으로 제공하는 자료구조와 이를 응용하여 기초 자료구조를 학습"
   ]
  },
  {
   "cell_type": "markdown",
   "metadata": {},
   "source": [
    "- 여러 데이터를 저장하고 사용하기 위해 \"컨테이너(container)\" 자료형이 존재\n",
    "- \"자료구조\"는 여러 컨테이너의 구현체\n",
    "- 기본 제공되는 자료구조의 특징을 학습하고, 목적에 따라 적절한 자료구조를 이용하는 것이 중요!"
   ]
  },
  {
   "cell_type": "markdown",
   "metadata": {},
   "source": [
    "## 1. 값(Value) vs 참조(Reference)\n",
    "\n",
    "- \"1장 파이썬 소개\" 에서 다음과 같이 특징을 소개한 적이 있다.\n",
    "\n",
    "> 순수 객체 지향\n",
    ">\n",
    "> > \"원시 타입(Primiive)\"이 존재하지 않으며, 모든 것을 \"객체(Object)\"로 취급\n",
    "> >\n",
    "> > - 원시 타입(Primitive Type) : 데이터를 저장하는 가장 작은 단위의 기본 자료형\n",
    "> >\n",
    "> > - 객체(Object) : 클래스의 자료구조를 실제 메모리에 할당한 것\n",
    "\n",
    "- \"원시 타입\"은 값(Value) 그 자체를 의미하며, 직접적인 수정이 불가능하고 복사(Copy)를 통해서만 사용할 수 있다.\n",
    "- \"객체\"는 참조(Reference)를 할 수 있는 형태로, 객체가 저장된 메모리를 참조하여 사용한다.\n",
    "- 앞서 배운 숫자(int, float)와 문자열(str) 자료형은 모두 `클래스(class)` 이며, <br>\n",
    "  객체는 특정 클래스를 `인스턴스(instance)` 로 생성한 것이다.\n",
    "\n",
    "> 객체 `a` 가 문자열(str) 자료형일 경우, \"객체 `a` 는 문자열 클래스의 인스턴스\" 라고 한다.\n",
    "\n",
    "- 파이썬에서 객체는 메모리를 직접 참조하는게 아닌, 고유한 `참조 ID` 를 통해 객체를 참조한다.\n",
    "- 결국, 변수 안에는 객체 참조를 위한 ID 값이 저장되어 있는 것이다.\n",
    "\n",
    "> 우리가 변수를 사용할 때는, 파이썬이 알아서 객체가 참조하고 있는 값을 가져오는 것이다."
   ]
  },
  {
   "cell_type": "markdown",
   "metadata": {},
   "source": [
    "<img src=\"img_value-reference.png\"/>"
   ]
  },
  {
   "cell_type": "code",
   "execution_count": 1,
   "metadata": {},
   "outputs": [
    {
     "name": "stdout",
     "output_type": "stream",
     "text": [
      "id(a) == id(b) : True\n"
     ]
    }
   ],
   "source": [
    "a = 'apple' # 문자열 'apple' 객체를 생성\n",
    "b = a       # 문자열 a 의 참조 ID를 b 에 복사\n",
    "\n",
    "# \"id()\" 함수는 객체의 고유한 ID 값을 반환\n",
    "print(f'id(a) == id(b) : {id(a) == id(b)}')"
   ]
  },
  {
   "cell_type": "markdown",
   "metadata": {},
   "source": [
    "- 식별 연산자 `is` 를 활용하면 두 객체가 같은 \"완벽하게\" 같은 객체인지를 알아볼 수 있다."
   ]
  },
  {
   "cell_type": "code",
   "execution_count": 2,
   "metadata": {},
   "outputs": [
    {
     "name": "stdout",
     "output_type": "stream",
     "text": [
      "id(a) == id(b) : True\n",
      "a is b : True\n"
     ]
    }
   ],
   "source": [
    "a = 10000\n",
    "b = a\n",
    "print(f'id(a) == id(b) : {id(a) == id(b)}')\n",
    "print(f'a is b : {a is b}')"
   ]
  },
  {
   "cell_type": "code",
   "execution_count": 3,
   "metadata": {},
   "outputs": [
    {
     "name": "stdout",
     "output_type": "stream",
     "text": [
      "a == b : True\n",
      "a is b : False\n"
     ]
    }
   ],
   "source": [
    "a = 3\n",
    "b = 3.0\n",
    "print(f'a == b : {a == b}')\n",
    "print(f'a is b : {a is b}')"
   ]
  },
  {
   "cell_type": "markdown",
   "metadata": {},
   "source": [
    "- 객체 내부의 값을 수정하는 경우, 같은 객체를 참조하는 모든 변수에 영향을 준다.\n",
    "\n",
    "> 앞서 배운 기본 자료형(int, float, str, bool)은 객체 내부의 값을 수정할 수 없는(Immutable) 자료형이다."
   ]
  },
  {
   "cell_type": "code",
   "execution_count": 4,
   "metadata": {},
   "outputs": [
    {
     "name": "stdout",
     "output_type": "stream",
     "text": [
      "[1, 2, 3] [1, 2, 3]\n",
      "[1, 2, 3, 999] [1, 2, 3, 999]\n"
     ]
    }
   ],
   "source": [
    "a = [1, 2, 3]\n",
    "b = a\n",
    "print(a, b)\n",
    "\n",
    "a.append(999)\n",
    "print(a, b)"
   ]
  },
  {
   "cell_type": "markdown",
   "metadata": {},
   "source": [
    "## 2. 파이썬의 기본 자료구조\n",
    "\n",
    "|이름|예시|순서|수정|\n",
    "|:-:|:-:|:-:|:-:|\n",
    "|리스트(list)|`a = [1, 2, 3]`|O|O|\n",
    "|튜플(tuple)|`a = (1, 2, 3)`|O|X|\n",
    "|범위(range)|`a = range(1, 4)`|O|X|\n",
    "|집합(set)|`a = {1, 2, 3}`|X|O|\n",
    "|사전(dict)|`a = {'a': 1, 'b': 2, 'c': 3}`|X|O|"
   ]
  }
 ],
 "metadata": {
  "kernelspec": {
   "display_name": ".venv",
   "language": "python",
   "name": "python3"
  },
  "language_info": {
   "codemirror_mode": {
    "name": "ipython",
    "version": 3
   },
   "file_extension": ".py",
   "mimetype": "text/x-python",
   "name": "python",
   "nbconvert_exporter": "python",
   "pygments_lexer": "ipython3",
   "version": "3.12.2"
  }
 },
 "nbformat": 4,
 "nbformat_minor": 2
}
