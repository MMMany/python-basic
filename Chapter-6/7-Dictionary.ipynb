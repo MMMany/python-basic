{
 "cells": [
  {
   "cell_type": "markdown",
   "metadata": {},
   "source": [
    "# Chapter 6 : 자료구조 (사전, dict)\n",
    "\n",
    "- `사전(dict)` : 순서가 없고, 원소를 수정할 수 있는 자료구조\n",
    "- `키-값(Key-Value)` 자료구조 : 고유한 `키(Key)` 값을 이용해 `값(Value)` 를 조회하는 사전 형태의 자료구조\n",
    "  - 사전 안에서 `키(Key)` 값은 유일함(unique)"
   ]
  },
  {
   "cell_type": "markdown",
   "metadata": {},
   "source": [
    "## 1. 생성\n",
    "\n",
    "- 중괄호 `{}` 와 `콜론(:)` 을 이용하여 생성"
   ]
  },
  {
   "cell_type": "code",
   "execution_count": 1,
   "metadata": {},
   "outputs": [
    {
     "name": "stdout",
     "output_type": "stream",
     "text": [
      "{'name': 'Mike', 'age': 28, 'favorite': ['music', 'game']}\n"
     ]
    }
   ],
   "source": [
    "# 일반적으로, 읽기 편하게 여러 줄에 걸쳐서 선언함\n",
    "player = {\n",
    "    'name': 'Mike',\n",
    "    'age': 28,\n",
    "    'favorite': ['music', 'game']\n",
    "}\n",
    "print(player)"
   ]
  },
  {
   "cell_type": "code",
   "execution_count": 2,
   "metadata": {},
   "outputs": [
    {
     "name": "stdout",
     "output_type": "stream",
     "text": [
      "{100: 'John', 200: 'James', 300: 'Teddy'}\n"
     ]
    }
   ],
   "source": [
    "# 키 값도 모든 자료형을 사용 할 수 있음\n",
    "# 일반적으로, 키 값의 자료형은 한 가지로 통일함\n",
    "users = {\n",
    "    100: 'John',\n",
    "    200: 'James',\n",
    "    300: 'Teddy'\n",
    "}\n",
    "print(users)"
   ]
  },
  {
   "cell_type": "markdown",
   "metadata": {},
   "source": [
    "## 2. 원소 접근\n",
    "\n",
    "- 각 원소는 `[]` 와 `키(Key)` 값을 이용하여 조회"
   ]
  },
  {
   "cell_type": "code",
   "execution_count": 3,
   "metadata": {},
   "outputs": [
    {
     "name": "stdout",
     "output_type": "stream",
     "text": [
      "Mike\n",
      "['music', 'game']\n"
     ]
    }
   ],
   "source": [
    "player = {\n",
    "    'name': 'Mike',\n",
    "    'age': 28,\n",
    "    'favorite': ['music', 'game']\n",
    "}\n",
    "print(player['name'])\n",
    "print(player['favorite'])"
   ]
  },
  {
   "cell_type": "markdown",
   "metadata": {},
   "source": [
    "## 3. 사전 수정\n",
    "\n",
    "- `[]` 와 `키(Key)` 로 원소에 접근하여 수정할 수 있음"
   ]
  },
  {
   "cell_type": "code",
   "execution_count": 4,
   "metadata": {},
   "outputs": [
    {
     "name": "stdout",
     "output_type": "stream",
     "text": [
      "28\n",
      "34\n"
     ]
    }
   ],
   "source": [
    "player = {\n",
    "    'name': 'Mike',\n",
    "    'age': 28,\n",
    "    'favorite': ['music', 'game']\n",
    "}\n",
    "\n",
    "print(player['age'])\n",
    "player['age'] = 34\n",
    "print(player['age'])"
   ]
  },
  {
   "cell_type": "markdown",
   "metadata": {},
   "source": [
    "- 만약에 `키(Key)` 가 없으면, 새로운 원소를 추가"
   ]
  },
  {
   "cell_type": "code",
   "execution_count": 5,
   "metadata": {},
   "outputs": [
    {
     "name": "stdout",
     "output_type": "stream",
     "text": [
      "{'name': 'Mike', 'age': 28, 'favorite': ['music', 'game']}\n",
      "{'name': 'Mike', 'age': 28, 'favorite': ['music', 'game'], 'is_fat': True}\n"
     ]
    }
   ],
   "source": [
    "player = {\n",
    "    'name': 'Mike',\n",
    "    'age': 28,\n",
    "    'favorite': ['music', 'game']\n",
    "}\n",
    "\n",
    "print(player)\n",
    "player['is_fat'] = True\n",
    "print(player)"
   ]
  },
  {
   "cell_type": "markdown",
   "metadata": {},
   "source": [
    "- 원소를 조회할 때 `키(Key)` 가 없으면 `KeyError` 예외 발생"
   ]
  },
  {
   "cell_type": "code",
   "execution_count": 6,
   "metadata": {},
   "outputs": [
    {
     "ename": "KeyError",
     "evalue": "'is_fat'",
     "output_type": "error",
     "traceback": [
      "\u001b[1;31m---------------------------------------------------------------------------\u001b[0m",
      "\u001b[1;31mKeyError\u001b[0m                                  Traceback (most recent call last)",
      "Cell \u001b[1;32mIn[6], line 6\u001b[0m\n\u001b[0;32m      1\u001b[0m player \u001b[38;5;241m=\u001b[39m {\n\u001b[0;32m      2\u001b[0m     \u001b[38;5;124m'\u001b[39m\u001b[38;5;124mname\u001b[39m\u001b[38;5;124m'\u001b[39m: \u001b[38;5;124m'\u001b[39m\u001b[38;5;124mMike\u001b[39m\u001b[38;5;124m'\u001b[39m,\n\u001b[0;32m      3\u001b[0m     \u001b[38;5;124m'\u001b[39m\u001b[38;5;124mage\u001b[39m\u001b[38;5;124m'\u001b[39m: \u001b[38;5;241m28\u001b[39m,\n\u001b[0;32m      4\u001b[0m     \u001b[38;5;124m'\u001b[39m\u001b[38;5;124mfavorite\u001b[39m\u001b[38;5;124m'\u001b[39m: [\u001b[38;5;124m'\u001b[39m\u001b[38;5;124mmusic\u001b[39m\u001b[38;5;124m'\u001b[39m, \u001b[38;5;124m'\u001b[39m\u001b[38;5;124mgame\u001b[39m\u001b[38;5;124m'\u001b[39m]\n\u001b[0;32m      5\u001b[0m }\n\u001b[1;32m----> 6\u001b[0m \u001b[38;5;28mprint\u001b[39m(\u001b[43mplayer\u001b[49m\u001b[43m[\u001b[49m\u001b[38;5;124;43m'\u001b[39;49m\u001b[38;5;124;43mis_fat\u001b[39;49m\u001b[38;5;124;43m'\u001b[39;49m\u001b[43m]\u001b[49m)\n",
      "\u001b[1;31mKeyError\u001b[0m: 'is_fat'"
     ]
    }
   ],
   "source": [
    "player = {\n",
    "    'name': 'Mike',\n",
    "    'age': 28,\n",
    "    'favorite': ['music', 'game']\n",
    "}\n",
    "print(player['is_fat'])"
   ]
  },
  {
   "cell_type": "markdown",
   "metadata": {},
   "source": [
    "- `dict.get(DT, K)` : `K` 키 값을 이용해 원소를 조회, 원소가 없으면 `None` 을 반환\n",
    "\n",
    "> `None` : \"값이 없음\"을 뜻하는 값"
   ]
  },
  {
   "cell_type": "code",
   "execution_count": 7,
   "metadata": {},
   "outputs": [
    {
     "name": "stdout",
     "output_type": "stream",
     "text": [
      "None\n",
      "False\n"
     ]
    }
   ],
   "source": [
    "player = {\n",
    "    'name': 'Mike',\n",
    "    'age': 28,\n",
    "    'favorite': ['music', 'game']\n",
    "}\n",
    "print(dict.get(player, 'is_fat'))\n",
    "player['is_fat'] = False\n",
    "print(player.get('is_fat'))"
   ]
  },
  {
   "cell_type": "markdown",
   "metadata": {},
   "source": [
    "## 4. 사전 연산\n",
    "\n",
    "- `len()` : 원소의 갯수 반환"
   ]
  },
  {
   "cell_type": "code",
   "execution_count": 8,
   "metadata": {},
   "outputs": [
    {
     "name": "stdout",
     "output_type": "stream",
     "text": [
      "3\n"
     ]
    }
   ],
   "source": [
    "player = {\n",
    "    'name': 'Mike',\n",
    "    'age': 28,\n",
    "    'favorite': ['music', 'game']\n",
    "}\n",
    "print(len(player))"
   ]
  },
  {
   "cell_type": "markdown",
   "metadata": {},
   "source": [
    "- `dict.items(DT)` : 사전 `DT` 의 모든 원소를 `dict_items` 타입 객체로 반환\n",
    "\n",
    "> 일종의 튜플 `(key, value)` 형태의 리스트 데이터\n",
    ">\n",
    "> `list(DT.items())` 를 통해 리스트 데이터로 변환할 수 있음\n",
    ">\n",
    "> 리스트로 변환하지 않아도 반복문 `for`, 멤버 연산자 `in` 등을 사용할 수 있음"
   ]
  },
  {
   "cell_type": "code",
   "execution_count": 9,
   "metadata": {},
   "outputs": [
    {
     "name": "stdout",
     "output_type": "stream",
     "text": [
      "dict_items([('name', 'Mike'), ('age', 28), ('favorite', ['music', 'game'])])\n",
      "('name', 'Mike') <class 'tuple'>\n"
     ]
    }
   ],
   "source": [
    "player = {\n",
    "    'name': 'Mike',\n",
    "    'age': 28,\n",
    "    'favorite': ['music', 'game']\n",
    "}\n",
    "print(dict.items(player))\n",
    "\n",
    "items = player.items()\n",
    "# items[0]  # TypeError\n",
    "items = list(items)\n",
    "print(items[0], type(items[0]))"
   ]
  },
  {
   "cell_type": "markdown",
   "metadata": {},
   "source": [
    "- `dict.keys(DT)` : 사전 `DT` 의 모든 키(Key)를 반환 (`dict_keys` 타입)\n",
    "- `dict.values(DT)` : 사전 `DT` 의 모든 값(Value)을 반환 (`dict_values` 타입)"
   ]
  },
  {
   "cell_type": "code",
   "execution_count": 10,
   "metadata": {},
   "outputs": [
    {
     "name": "stdout",
     "output_type": "stream",
     "text": [
      "dict_keys(['name', 'age', 'favorite'])\n",
      "name\n",
      "dict_values(['Mike', 28, ['music', 'game']])\n",
      "Mike\n"
     ]
    }
   ],
   "source": [
    "player = {\n",
    "    'name': 'Mike',\n",
    "    'age': 28,\n",
    "    'favorite': ['music', 'game']\n",
    "}\n",
    "print(dict.keys(player))\n",
    "\n",
    "keys = player.keys()\n",
    "# keys[0]  # TypeError\n",
    "keys = list(keys)\n",
    "print(keys[0])\n",
    "\n",
    "print(dict.values(player))\n",
    "# values[0]  # TypeError\n",
    "values = list(player.values())\n",
    "print(values[0])"
   ]
  },
  {
   "cell_type": "markdown",
   "metadata": {},
   "source": [
    "- `dict.clear(DT)` : 사전 `DT` 의 모든 원소를 삭제"
   ]
  },
  {
   "cell_type": "code",
   "execution_count": 11,
   "metadata": {},
   "outputs": [
    {
     "name": "stdout",
     "output_type": "stream",
     "text": [
      "{'name': 'Mike', 'age': 28, 'favorite': ['music', 'game']}\n",
      "{}\n"
     ]
    }
   ],
   "source": [
    "player = {\n",
    "    'name': 'Mike',\n",
    "    'age': 28,\n",
    "    'favorite': ['music', 'game']\n",
    "}\n",
    "\n",
    "print(player)\n",
    "player.clear()\n",
    "print(player)"
   ]
  }
 ],
 "metadata": {
  "kernelspec": {
   "display_name": ".venv",
   "language": "python",
   "name": "python3"
  },
  "language_info": {
   "codemirror_mode": {
    "name": "ipython",
    "version": 3
   },
   "file_extension": ".py",
   "mimetype": "text/x-python",
   "name": "python",
   "nbconvert_exporter": "python",
   "pygments_lexer": "ipython3",
   "version": "3.12.2"
  }
 },
 "nbformat": 4,
 "nbformat_minor": 2
}
