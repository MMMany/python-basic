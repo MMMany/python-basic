{
 "cells": [
  {
   "cell_type": "markdown",
   "metadata": {},
   "source": [
    "# Chapter 6 : 자료구조 (튜플, tuple)\n",
    "\n",
    "- `튜플(tuple)` : 순서가 있으나, 원소를 수정할 수 없는 자료구조"
   ]
  },
  {
   "cell_type": "markdown",
   "metadata": {},
   "source": [
    "## 1. 생성\n",
    "\n",
    "- 소괄호 `()` 를 이용하여 생성"
   ]
  },
  {
   "cell_type": "code",
   "execution_count": 1,
   "metadata": {},
   "outputs": [
    {
     "name": "stdout",
     "output_type": "stream",
     "text": [
      "('hamburger', 'chicken', 'pizza')\n",
      "<class 'tuple'>\n"
     ]
    }
   ],
   "source": [
    "foods = ('hamburger', 'chicken', 'pizza')\n",
    "print(foods)\n",
    "print(type(foods))"
   ]
  },
  {
   "cell_type": "markdown",
   "metadata": {},
   "source": [
    "- 리스트와 동일하게 모든 자료형을 저장할 수 있음"
   ]
  },
  {
   "cell_type": "code",
   "execution_count": 2,
   "metadata": {},
   "outputs": [
    {
     "name": "stdout",
     "output_type": "stream",
     "text": [
      "[10, 52.1, 91, 'not record']\n"
     ]
    }
   ],
   "source": [
    "scores = [10, 52.1, 91, 'not record']\n",
    "print(scores)"
   ]
  },
  {
   "cell_type": "markdown",
   "metadata": {},
   "source": [
    "## 2. 원소 접근\n",
    "\n",
    "- 리스트와 동일하게 `인덱스(index)` 및 `인덱스 슬라이싱(index slicing)` 으로 원소에 접근"
   ]
  },
  {
   "cell_type": "code",
   "execution_count": 3,
   "metadata": {},
   "outputs": [
    {
     "name": "stdout",
     "output_type": "stream",
     "text": [
      "I like hamburger and pizza !!\n"
     ]
    }
   ],
   "source": [
    "foods = ('hamburger', 'chicken', 'pizza')\n",
    "\n",
    "print(f'I like {foods[0]} and {foods[-1]} !!')"
   ]
  },
  {
   "cell_type": "code",
   "execution_count": 4,
   "metadata": {},
   "outputs": [
    {
     "name": "stdout",
     "output_type": "stream",
     "text": [
      "['USA', 'Japan', 'Korea']\n"
     ]
    }
   ],
   "source": [
    "countries = ['USA', 'Japan', 'Korea', 'China', 'England']\n",
    "\n",
    "print(countries[:3])"
   ]
  },
  {
   "cell_type": "markdown",
   "metadata": {},
   "source": [
    "## 3. 튜플 연산\n",
    "\n",
    "- 리스트와 동일한 연산을 할 수 있음\n",
    "  - `+`, `-`, `len()`\n",
    "  - `max()`, `min()`, `sum()`\n",
    "  - `tuple.index(L, D)`, `tuple.count(L, D)`\n",
    "\n",
    "> `index()`, `count()` 는 리스트의 함수 이름과 동일!\n",
    ">\n",
    "> 파이썬은 함수의 기능이 비슷하면 대체로 같은 이름을 사용함!"
   ]
  },
  {
   "cell_type": "code",
   "execution_count": 5,
   "metadata": {},
   "outputs": [
    {
     "name": "stdout",
     "output_type": "stream",
     "text": [
      "('pizza', 'hamburger', 'salad', 'orange', 'apple', 'banana')\n",
      "('orange', 'apple', 'banana', 'orange', 'apple', 'banana')\n",
      "70\n",
      "30\n",
      "150\n",
      "1\n",
      "2\n"
     ]
    }
   ],
   "source": [
    "foods = ('pizza', 'hamburger', 'salad')\n",
    "fruits = ('orange', 'apple', 'banana')\n",
    "print(foods + fruits)\n",
    "print(fruits * 2)\n",
    "\n",
    "scores = (30, 50, 70)\n",
    "print(max(scores))\n",
    "print(min(scores))\n",
    "print(sum(scores))\n",
    "\n",
    "countries = ('USA', 'Korea', 'Japan', 'Korea', 'China')\n",
    "print(countries.index('Korea'))\n",
    "print(countries.count('Korea'))"
   ]
  }
 ],
 "metadata": {
  "kernelspec": {
   "display_name": ".venv",
   "language": "python",
   "name": "python3"
  },
  "language_info": {
   "codemirror_mode": {
    "name": "ipython",
    "version": 3
   },
   "file_extension": ".py",
   "mimetype": "text/x-python",
   "name": "python",
   "nbconvert_exporter": "python",
   "pygments_lexer": "ipython3",
   "version": "3.12.2"
  }
 },
 "nbformat": 4,
 "nbformat_minor": 2
}
