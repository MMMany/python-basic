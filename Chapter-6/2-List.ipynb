{
 "cells": [
  {
   "cell_type": "markdown",
   "metadata": {},
   "source": [
    "# Chapter 6 : 자료구조 (리스트, list)\n",
    "\n",
    "- `리스트(list)` : 순서가 있고, 원소를 수정할 수 있는 자료구조\n",
    "- 비슷한 자료구조로, \"배열(Array)\"이 있음\n",
    "- 리스트는 \"가변 길이\" 자료구조"
   ]
  },
  {
   "cell_type": "markdown",
   "metadata": {},
   "source": [
    "## 1. 생성\n",
    "\n",
    "- 대괄호 `[]` 를 이용하여 생성"
   ]
  },
  {
   "cell_type": "code",
   "execution_count": 1,
   "metadata": {},
   "outputs": [
    {
     "name": "stdout",
     "output_type": "stream",
     "text": [
      "['banana', 'orange', 'apple']\n",
      "<class 'list'>\n"
     ]
    }
   ],
   "source": [
    "fruits = ['banana', 'orange', 'apple']\n",
    "print(fruits)\n",
    "print(type(fruits))"
   ]
  },
  {
   "cell_type": "markdown",
   "metadata": {},
   "source": [
    "- 리스트는 \"모든\" 자료형을 저장할 수 있음\n",
    "\n",
    "> 이후에 나오는 모든 자료구조도 동일!"
   ]
  },
  {
   "cell_type": "code",
   "execution_count": 2,
   "metadata": {},
   "outputs": [
    {
     "name": "stdout",
     "output_type": "stream",
     "text": [
      "kiwi\n",
      "1.23\n",
      "[4, 5, 6]\n"
     ]
    }
   ],
   "source": [
    "# 서로 다른 자료형을 저장할 수 있음\n",
    "any_items = ['kiwi', 321, 1.23]\n",
    "print(any_items[0])\n",
    "print(any_items[-1])\n",
    "\n",
    "# 리스트 안에 리스트를 저장할 수도 있음\n",
    "list_2 = [1, 2, 3, [4, 5, 6]]\n",
    "print(list_2[-1])"
   ]
  },
  {
   "cell_type": "markdown",
   "metadata": {},
   "source": [
    "## 2. 원소 접근\n",
    "\n",
    "- 각 원소는 `[]` 와 `인덱스(index)`를 이용하여 원소에 접근\n",
    "\n",
    "> 리스트를 생성하는 대괄호와 다름!!"
   ]
  },
  {
   "cell_type": "code",
   "execution_count": 3,
   "metadata": {},
   "outputs": [
    {
     "name": "stdout",
     "output_type": "stream",
     "text": [
      "banana\n",
      "apple orange\n",
      "5\n",
      "orange\n"
     ]
    }
   ],
   "source": [
    "# 컴퓨터 세계에서는 첫 번째 자리는 '0' 부터 시작\n",
    "fruits = ['banana', 'orange', 'apple']\n",
    "print(fruits[0])\n",
    "\n",
    "# 음수를 이용하여 맨 뒤에서부터 원소에 접근할 수 있음\n",
    "print(fruits[-1], fruits[-2])\n",
    "\n",
    "\n",
    "# 리스트 안에 리스트의 원소를 접근할 때는 대괄호를 한번 더 사용하면 됨\n",
    "# --> 가져온 데이터가 리스트 이므로, 대괄호로 다시 접근하여 원소를 가져오는 것\n",
    "list_2 = [1, 2, 3, [4, 5, 6]]\n",
    "print(list_2[-1][1])\n",
    "\n",
    "# 다중 리스트는 데이터 접근이 복잡하기 때문에 자주 사용되지 않음\n",
    "list_3 = [1, 2, [['apple', 'orange'], 'a', 'b', 'c'], 3, 4]\n",
    "# 'orange' 에 접근하려면 아래 처럼 인덱싱 해야함\n",
    "print(list_3[2][0][1])"
   ]
  },
  {
   "cell_type": "markdown",
   "metadata": {},
   "source": [
    "- `인덱스 슬라이싱(index slicing)` : `콜론(:)` 을 이용하여 여러 원소를 한번에 조회할 수 있음\n",
    "- `[시작:끝]` 형태로 사용하며, 시작 위치의 원소부터 끝 위치 직전 원소까지 조회\n",
    "- `시작` 을 생략하면 \"첫 번째부터\", `끝` 을 생략하면 \"마지막까지\"를 의미"
   ]
  },
  {
   "cell_type": "code",
   "execution_count": 4,
   "metadata": {},
   "outputs": [
    {
     "name": "stdout",
     "output_type": "stream",
     "text": [
      "['hamburger', 'salad']\n",
      "['pizza', 'hamburger']\n",
      "['salad', 'chicken', 'pasta']\n"
     ]
    }
   ],
   "source": [
    "foods = ['pizza', 'hamburger', 'salad', 'chicken', 'pasta']\n",
    "print(foods[1:3])\n",
    "print(foods[:2])\n",
    "print(foods[2:])"
   ]
  },
  {
   "cell_type": "markdown",
   "metadata": {},
   "source": [
    "## 3. 리스트 수정\n",
    "\n",
    "- `인덱스` 또는 `인덱스 슬라이싱` 으로 접근한 원소는 직접 수정할 수 있음\n",
    "- 하지만, 자주 사용되는 방법은 아님!"
   ]
  },
  {
   "cell_type": "code",
   "execution_count": 5,
   "metadata": {},
   "outputs": [
    {
     "name": "stdout",
     "output_type": "stream",
     "text": [
      "[1, 11, 3, 4, 5]\n",
      "[1, 11, 22, 33, 5]\n"
     ]
    }
   ],
   "source": [
    "# 인덱스로 접근하여 값을 수정\n",
    "items = [1, 2, 3, 4, 5]\n",
    "items[1] = 11\n",
    "print(items)\n",
    "\n",
    "# 인덱스 슬라이싱으로 접근하여 값을 수정\n",
    "items[2:4] = [22, 33]\n",
    "print(items)"
   ]
  },
  {
   "cell_type": "markdown",
   "metadata": {},
   "source": [
    "- `list.append(L, D)` : 리스트 `L` 맨 뒤에 데이터 `D` 를 추가"
   ]
  },
  {
   "cell_type": "code",
   "execution_count": 6,
   "metadata": {},
   "outputs": [
    {
     "name": "stdout",
     "output_type": "stream",
     "text": [
      "[1, 2, 3, 11]\n",
      "[1, 2, 3, 11, 22]\n"
     ]
    }
   ],
   "source": [
    "items = [1, 2, 3]\n",
    "list.append(items, 11)\n",
    "print(items)\n",
    "\n",
    "# 문자열과 마찬가지로, \"items.append(11)\" 과 같이 사용할 수 있음\n",
    "items.append(22)\n",
    "print(items)"
   ]
  },
  {
   "cell_type": "markdown",
   "metadata": {},
   "source": [
    "- `list.insert(L, IDX, D)` : 리스트 `L` 의 `IDX` 위치에 데이터 `D` 를 추가"
   ]
  },
  {
   "cell_type": "code",
   "execution_count": 7,
   "metadata": {},
   "outputs": [
    {
     "name": "stdout",
     "output_type": "stream",
     "text": [
      "[1, 11, 2, 3]\n"
     ]
    }
   ],
   "source": [
    "items = [1, 2, 3]\n",
    "list.insert(items, 1, 11)\n",
    "print(items)"
   ]
  },
  {
   "cell_type": "markdown",
   "metadata": {},
   "source": [
    "- `list.remove(L, I)` : 리스트 `L` 에서 데이터 `I` 를 찾아 삭제\n",
    "- 맨 앞에서 찾기 시작하여 제일 먼저 발견한 데이터 1개만 삭제\n",
    "- 만약 해당 데이터가 없는 경우, `ValueError` 예외가 발생"
   ]
  },
  {
   "cell_type": "code",
   "execution_count": 8,
   "metadata": {},
   "outputs": [
    {
     "name": "stdout",
     "output_type": "stream",
     "text": [
      "[1, 3, 1, 2, 3]\n"
     ]
    }
   ],
   "source": [
    "items = [1, 2, 3, 1, 2, 3]\n",
    "list.remove(items, 2)\n",
    "print(items)"
   ]
  },
  {
   "cell_type": "code",
   "execution_count": 9,
   "metadata": {},
   "outputs": [
    {
     "ename": "ValueError",
     "evalue": "list.remove(x): x not in list",
     "output_type": "error",
     "traceback": [
      "\u001b[1;31m---------------------------------------------------------------------------\u001b[0m",
      "\u001b[1;31mValueError\u001b[0m                                Traceback (most recent call last)",
      "Cell \u001b[1;32mIn[9], line 2\u001b[0m\n\u001b[0;32m      1\u001b[0m items \u001b[38;5;241m=\u001b[39m [\u001b[38;5;241m1\u001b[39m, \u001b[38;5;241m2\u001b[39m, \u001b[38;5;241m3\u001b[39m, \u001b[38;5;241m1\u001b[39m, \u001b[38;5;241m2\u001b[39m, \u001b[38;5;241m3\u001b[39m]\n\u001b[1;32m----> 2\u001b[0m \u001b[43mitems\u001b[49m\u001b[38;5;241;43m.\u001b[39;49m\u001b[43mremove\u001b[49m\u001b[43m(\u001b[49m\u001b[38;5;241;43m11\u001b[39;49m\u001b[43m)\u001b[49m\n",
      "\u001b[1;31mValueError\u001b[0m: list.remove(x): x not in list"
     ]
    }
   ],
   "source": [
    "items = [1, 2, 3, 1, 2, 3]\n",
    "items.remove(11)"
   ]
  },
  {
   "cell_type": "markdown",
   "metadata": {},
   "source": [
    "- `list.pop(L)` : 리스트 `L` 의 마지막 원소를 삭제한 후, 해당 데이터를 반환\n",
    "- `list.pop(L, IDX)` : 리스트 `L` 의 `IDX` 위치의 원소를 삭제한 후, 해당 데이터를 반환"
   ]
  },
  {
   "cell_type": "code",
   "execution_count": 10,
   "metadata": {},
   "outputs": [
    {
     "name": "stdout",
     "output_type": "stream",
     "text": [
      "[1, 2, 3]\n",
      "4\n"
     ]
    }
   ],
   "source": [
    "items = [1, 2, 3, 4]\n",
    "it = list.pop(items)\n",
    "print(items)\n",
    "print(it)"
   ]
  },
  {
   "cell_type": "code",
   "execution_count": 11,
   "metadata": {},
   "outputs": [
    {
     "name": "stdout",
     "output_type": "stream",
     "text": [
      "[1, 3, 4]\n",
      "2\n"
     ]
    }
   ],
   "source": [
    "items = [1, 2, 3, 4]\n",
    "it = items.pop(1)\n",
    "print(items)\n",
    "print(it)"
   ]
  },
  {
   "cell_type": "markdown",
   "metadata": {},
   "source": [
    "- `list.clear(L)` : 리스트 `L` 의 모든 원소를 삭제"
   ]
  },
  {
   "cell_type": "code",
   "execution_count": 12,
   "metadata": {},
   "outputs": [
    {
     "name": "stdout",
     "output_type": "stream",
     "text": [
      "[1, 2, 3, 4, 5]\n",
      "[]\n"
     ]
    }
   ],
   "source": [
    "items = [1, 2, 3, 4, 5]\n",
    "print(items)\n",
    "items.clear()\n",
    "print(items)"
   ]
  },
  {
   "cell_type": "markdown",
   "metadata": {},
   "source": [
    "- `list.extend(L1, L2)` : 리스트 `L1` 맨 뒤에 리스트 `L2` 의 모든 원소를 추가\n",
    "- `L1 + L2` 와 비슷하나, `+` 는 같은 리스트 자료형만 가능하며, 두 리스트를 합쳐서 새로운 리스트를 생성하는 것\n",
    "\n",
    "> `L2` 는 \"반복 가능한(Iterable)\" 자료구조라면 무엇이든 올 수 있습니다.\n",
    ">\n",
    "> `반복 가능한(Iterable)` : 반복적으로 데이터를 가져올 수 있는 자료구조\n",
    ">\n",
    "> 이후 소개하는 자료구조는 모두 `Iterable` 합니다."
   ]
  },
  {
   "cell_type": "code",
   "execution_count": 13,
   "metadata": {},
   "outputs": [
    {
     "name": "stdout",
     "output_type": "stream",
     "text": [
      "[1, 2, 3, 4, 5]\n"
     ]
    }
   ],
   "source": [
    "items = [1, 2, 3]\n",
    "t_list = [4, 5]\n",
    "items.extend(t_list)\n",
    "print(items)"
   ]
  },
  {
   "cell_type": "code",
   "execution_count": 14,
   "metadata": {},
   "outputs": [
    {
     "name": "stdout",
     "output_type": "stream",
     "text": [
      "id(items) = 2683936306432\n",
      "id(result) = 2683936295360\n",
      "id(items) = 2683936360512\n",
      "id(items) = 2683936360512\n"
     ]
    }
   ],
   "source": [
    "# 'id()' 함수는 변수의 고유 ID 값을 반환합니다.\n",
    "items = [1, 2, 3]\n",
    "t_list = [4, 5]\n",
    "print(f'id(items) = {id(items)}')\n",
    "# '+' 는 두 리스트를 합쳐서 새로운 리스트를 생성하는 것이므로\n",
    "# 기존 리스트의 ID 값과 일치하지 않습니다.\n",
    "items = items + t_list\n",
    "print(f'id(result) = {id(items)}')\n",
    "\n",
    "# 'extend()' 함수는 기존 리스트에 데이터를 추가하는 것이므로\n",
    "# 기존 리스트의 ID 값이 변하지 않습니다.\n",
    "items = [1, 2, 3]\n",
    "t_list = [4, 5]\n",
    "print(f'id(items) = {id(items)}')\n",
    "items.extend(t_list)\n",
    "print(f'id(items) = {id(items)}')"
   ]
  },
  {
   "cell_type": "code",
   "execution_count": 15,
   "metadata": {},
   "outputs": [
    {
     "ename": "TypeError",
     "evalue": "can only concatenate list (not \"set\") to list",
     "output_type": "error",
     "traceback": [
      "\u001b[1;31m---------------------------------------------------------------------------\u001b[0m",
      "\u001b[1;31mTypeError\u001b[0m                                 Traceback (most recent call last)",
      "Cell \u001b[1;32mIn[15], line 4\u001b[0m\n\u001b[0;32m      2\u001b[0m items \u001b[38;5;241m=\u001b[39m [\u001b[38;5;241m1\u001b[39m, \u001b[38;5;241m2\u001b[39m, \u001b[38;5;241m3\u001b[39m]\n\u001b[0;32m      3\u001b[0m t_set \u001b[38;5;241m=\u001b[39m {\u001b[38;5;241m6\u001b[39m, \u001b[38;5;241m7\u001b[39m}\n\u001b[1;32m----> 4\u001b[0m result \u001b[38;5;241m=\u001b[39m \u001b[43mitems\u001b[49m\u001b[43m \u001b[49m\u001b[38;5;241;43m+\u001b[39;49m\u001b[43m \u001b[49m\u001b[43mt_set\u001b[49m\n\u001b[0;32m      5\u001b[0m \u001b[38;5;28mprint\u001b[39m(result)\n",
      "\u001b[1;31mTypeError\u001b[0m: can only concatenate list (not \"set\") to list"
     ]
    }
   ],
   "source": [
    "# 또한, '+'는 같은 리스트가 아니면 예외를 출력합니다.\n",
    "items = [1, 2, 3]\n",
    "t_set = {6, 7}\n",
    "result = items + t_set\n",
    "print(result)"
   ]
  },
  {
   "cell_type": "code",
   "execution_count": 16,
   "metadata": {},
   "outputs": [
    {
     "name": "stdout",
     "output_type": "stream",
     "text": [
      "[1, 2, 3, 6, 7]\n",
      "[1, 2, 3, 'a', 'b']\n",
      "[1, 2, 3, 111, 222, 333]\n",
      "[1, 2, 3, 0, 1, 2]\n",
      "[1, 2, 3, 'a', 'b', 'c', 'd']\n"
     ]
    }
   ],
   "source": [
    "# 'extend()' 함수는 'Iterable' 한 자료구조라면 모두 사용할 수 있습니다.\n",
    "items = [1, 2, 3]\n",
    "\n",
    "t_set = {6, 7}               # 집합(set)\n",
    "t_dict = {'a': 11, 'b': 22}  # 사전(dict)\n",
    "t_tuple = (111, 222, 333)    # 튜플(tuple)\n",
    "t_range = range(3)           # 범위(range)\n",
    "t_str = 'abcd'               # 문자열(str)\n",
    "\n",
    "# 'for' 반복문의 사용법은 \"7장 흐름 제어\"에서 자세히 다룰 예정입니다.\n",
    "for it in [t_set, t_dict, t_tuple, t_range, t_str]:\n",
    "    items = [1, 2, 3]\n",
    "    items.extend(it)\n",
    "    print(items)"
   ]
  },
  {
   "cell_type": "markdown",
   "metadata": {},
   "source": [
    "- `list.sort(L)` : 리스트 `L` 을 오름차순 정렬\n",
    "- `list.sort(L, reverse=True)` : 리스트 `L` 을 내림차순 정렬"
   ]
  },
  {
   "cell_type": "code",
   "execution_count": 17,
   "metadata": {},
   "outputs": [
    {
     "name": "stdout",
     "output_type": "stream",
     "text": [
      "[1, 2, 3, 5, 9]\n",
      "['tomato', 'orange', 'kiwi', 'blueberry', 'banana', 'apple']\n"
     ]
    }
   ],
   "source": [
    "items = [3, 2, 9, 1, 5]\n",
    "list.sort(items)\n",
    "print(items)\n",
    "\n",
    "# 문자열 데이터는 사전순으로 정렬\n",
    "items = ['kiwi', 'apple', 'orange', 'banana', 'tomato', 'blueberry']\n",
    "items.sort(reverse=True)\n",
    "print(items)\n",
    "\n",
    "# 숫자와 문자열 데이터가 섞여 있으면 어떻게 될까?  (주석을 풀고 돌려보세요!)\n",
    "# items = [3, 9, 'orange', 8, 2, 'banana', 'tomato', 'blueberry', 12]\n",
    "# items.sort()\n",
    "# print(items)"
   ]
  },
  {
   "cell_type": "markdown",
   "metadata": {},
   "source": [
    "> 위와 비슷한 `sorted()` 내장 함수가 있습니다.\n",
    ">\n",
    "> 하지만, `sorted()` 함수는 정렬한 결과를 새로운 리스트로 생성합니다.\n",
    ">\n",
    "> 주로, 기존 리스트를 수정하지 않으면서 정렬된 리스트가 필요할 때 사용합니다."
   ]
  },
  {
   "cell_type": "code",
   "execution_count": 18,
   "metadata": {},
   "outputs": [
    {
     "name": "stdout",
     "output_type": "stream",
     "text": [
      "items = [3, 2, 9, 1, 5]\n",
      "result = [1, 2, 3, 5, 9]\n",
      "items = [3, 2, 9, 1, 5]\n"
     ]
    }
   ],
   "source": [
    "items = [3, 2, 9, 1, 5]\n",
    "print(f'items = {items}')\n",
    "result = sorted(items)\n",
    "print(f'result = {result}')\n",
    "print(f'items = {items}')"
   ]
  },
  {
   "cell_type": "markdown",
   "metadata": {},
   "source": [
    "> 멤버 연산자 `in`\n",
    ">\n",
    "> > 1. `A in ITEMS` : 자료구조 안에 특정 데이터가 포함되어 있는지 여부를 반환\n",
    "> >\n",
    "> > 2. `for IT in ITEMS` : 반복문 `for` 에서는 자료구조 안에 데이터를 한 개씩 반환 <br>\n",
    "       ※ \"7장 흐름 제어\"에서 다룰 예정"
   ]
  },
  {
   "cell_type": "code",
   "execution_count": 19,
   "metadata": {},
   "outputs": [
    {
     "name": "stdout",
     "output_type": "stream",
     "text": [
      "True\n",
      "False\n"
     ]
    }
   ],
   "source": [
    "items = [1, 2, 3, 4]\n",
    "print(2 in items)\n",
    "\n",
    "items = ['banana', 'apple', 'orange']\n",
    "print('kiwi' in items)"
   ]
  },
  {
   "cell_type": "markdown",
   "metadata": {},
   "source": [
    "> `문자열(str)` 은 \"문자들을 순서대로 나열\"한 것으로, 일종의 `리스트(list)` 입니다.\n",
    ">\n",
    "> 하지만, `문자열(str)` 은 수정이 불가능하다(Immutable)는 차이가 있습니다."
   ]
  },
  {
   "cell_type": "code",
   "execution_count": 20,
   "metadata": {},
   "outputs": [
    {
     "name": "stdout",
     "output_type": "stream",
     "text": [
      "message[2] = c\n"
     ]
    },
    {
     "ename": "TypeError",
     "evalue": "'str' object does not support item assignment",
     "output_type": "error",
     "traceback": [
      "\u001b[1;31m---------------------------------------------------------------------------\u001b[0m",
      "\u001b[1;31mTypeError\u001b[0m                                 Traceback (most recent call last)",
      "Cell \u001b[1;32mIn[20], line 3\u001b[0m\n\u001b[0;32m      1\u001b[0m message \u001b[38;5;241m=\u001b[39m \u001b[38;5;124m'\u001b[39m\u001b[38;5;124mabcde\u001b[39m\u001b[38;5;124m'\u001b[39m\n\u001b[0;32m      2\u001b[0m \u001b[38;5;28mprint\u001b[39m(\u001b[38;5;124mf\u001b[39m\u001b[38;5;124m'\u001b[39m\u001b[38;5;124mmessage[2] = \u001b[39m\u001b[38;5;132;01m{\u001b[39;00mmessage[\u001b[38;5;241m2\u001b[39m]\u001b[38;5;132;01m}\u001b[39;00m\u001b[38;5;124m'\u001b[39m)\n\u001b[1;32m----> 3\u001b[0m \u001b[43mmessage\u001b[49m\u001b[43m[\u001b[49m\u001b[38;5;241;43m2\u001b[39;49m\u001b[43m]\u001b[49m \u001b[38;5;241m=\u001b[39m \u001b[38;5;124m'\u001b[39m\u001b[38;5;124mT\u001b[39m\u001b[38;5;124m'\u001b[39m\n\u001b[0;32m      4\u001b[0m \u001b[38;5;28mprint\u001b[39m(\u001b[38;5;124mf\u001b[39m\u001b[38;5;124m'\u001b[39m\u001b[38;5;124mmessage[2] = \u001b[39m\u001b[38;5;132;01m{\u001b[39;00mmessage[\u001b[38;5;241m2\u001b[39m]\u001b[38;5;132;01m}\u001b[39;00m\u001b[38;5;124m'\u001b[39m)\n",
      "\u001b[1;31mTypeError\u001b[0m: 'str' object does not support item assignment"
     ]
    }
   ],
   "source": [
    "message = 'abcde'\n",
    "print(f'message[2] = {message[2]}')\n",
    "message[2] = 'T'\n",
    "print(f'message[2] = {message[2]}')"
   ]
  },
  {
   "cell_type": "markdown",
   "metadata": {},
   "source": [
    "## 4. 리스트 연산\n",
    "\n",
    "- 문자열과 마찬가지로 `+`, `*`, `len()` 을 이용한 연산이 가능"
   ]
  },
  {
   "cell_type": "code",
   "execution_count": 21,
   "metadata": {},
   "outputs": [
    {
     "name": "stdout",
     "output_type": "stream",
     "text": [
      "['red', 'blue', 'green', 'cyan', 'magenta', 'yellow', 'white']\n",
      "['red', 'blue', 'green', 'red', 'blue', 'green']\n",
      "4\n"
     ]
    }
   ],
   "source": [
    "rgb = ['red', 'blue', 'green']\n",
    "cmyk = ['cyan', 'magenta', 'yellow', 'white']\n",
    "\n",
    "print(rgb + cmyk)\n",
    "print(rgb * 2)\n",
    "print(len(cmyk))"
   ]
  },
  {
   "cell_type": "markdown",
   "metadata": {},
   "source": [
    "- 숫자 데이터만 가지고 있는 경우, \"4장 숫자 자료형 관련 함수\" 에서 배운 `max()`, `min()`, `sum()` 등을 적용할 수 있음"
   ]
  },
  {
   "cell_type": "code",
   "execution_count": 22,
   "metadata": {},
   "outputs": [
    {
     "name": "stdout",
     "output_type": "stream",
     "text": [
      "1080.0\n",
      "1000\n",
      "-70.5\n"
     ]
    }
   ],
   "source": [
    "costs = [100, -50, 1000, -70.5, 100.5]\n",
    "print(sum(costs))\n",
    "print(max(costs))\n",
    "print(min(costs))"
   ]
  },
  {
   "cell_type": "markdown",
   "metadata": {},
   "source": [
    "- `list.index(L, D)` : 리스트 `L` 에서 데이터 `D` 를 찾아 처음으로 발견한 위치의 인덱스(index)를 반환\n",
    "- 만약 해당 데이터를 못 찾을 경우, `ValueError` 예외가 발생함"
   ]
  },
  {
   "cell_type": "code",
   "execution_count": 23,
   "metadata": {},
   "outputs": [
    {
     "name": "stdout",
     "output_type": "stream",
     "text": [
      "3\n"
     ]
    },
    {
     "ename": "ValueError",
     "evalue": "1111 is not in list",
     "output_type": "error",
     "traceback": [
      "\u001b[1;31m---------------------------------------------------------------------------\u001b[0m",
      "\u001b[1;31mValueError\u001b[0m                                Traceback (most recent call last)",
      "Cell \u001b[1;32mIn[23], line 4\u001b[0m\n\u001b[0;32m      1\u001b[0m items \u001b[38;5;241m=\u001b[39m [\u001b[38;5;241m1\u001b[39m, \u001b[38;5;241m2\u001b[39m, \u001b[38;5;241m2\u001b[39m, \u001b[38;5;241m3\u001b[39m, \u001b[38;5;241m3\u001b[39m, \u001b[38;5;241m3\u001b[39m, \u001b[38;5;241m4\u001b[39m, \u001b[38;5;241m4\u001b[39m, \u001b[38;5;241m4\u001b[39m, \u001b[38;5;241m4\u001b[39m]\n\u001b[0;32m      2\u001b[0m \u001b[38;5;28mprint\u001b[39m(items\u001b[38;5;241m.\u001b[39mindex(\u001b[38;5;241m3\u001b[39m))\n\u001b[1;32m----> 4\u001b[0m \u001b[43mitems\u001b[49m\u001b[38;5;241;43m.\u001b[39;49m\u001b[43mindex\u001b[49m\u001b[43m(\u001b[49m\u001b[38;5;241;43m1111\u001b[39;49m\u001b[43m)\u001b[49m\n",
      "\u001b[1;31mValueError\u001b[0m: 1111 is not in list"
     ]
    }
   ],
   "source": [
    "items = [1, 2, 2, 3, 3, 3, 4, 4, 4, 4]\n",
    "print(items.index(3))\n",
    "\n",
    "items.index(1111)\n"
   ]
  },
  {
   "cell_type": "markdown",
   "metadata": {},
   "source": [
    "- `list.count(L, D)` : 리스트 `L` 에서 데이터 `D` 의 갯수를 반환"
   ]
  },
  {
   "cell_type": "code",
   "execution_count": 24,
   "metadata": {},
   "outputs": [
    {
     "name": "stdout",
     "output_type": "stream",
     "text": [
      "2\n",
      "0\n"
     ]
    }
   ],
   "source": [
    "items = [1, 2, 2, 3, 3, 3, 4, 4, 4, 4]\n",
    "print(items.count(2))\n",
    "\n",
    "print(items.count(1111))"
   ]
  },
  {
   "cell_type": "markdown",
   "metadata": {},
   "source": [
    "---\n",
    "\n",
    "## 별첨. 범위(range)\n",
    "\n",
    "- `range(start, end, step)` : \"\\[시작, 끝)\" 범위만큼 일정 간격(step)으로 데이터를 생성할 수 있는 방법\n",
    "  - `정수(int)` 값만 가능\n",
    "- `list(range())` 와 같이, 리스트 형태로 변환할 수 있음"
   ]
  },
  {
   "cell_type": "code",
   "execution_count": 25,
   "metadata": {},
   "outputs": [
    {
     "name": "stdout",
     "output_type": "stream",
     "text": [
      "range(0, 10)\n",
      "[0, 1, 2, 3, 4, 5, 6, 7, 8, 9]\n"
     ]
    }
   ],
   "source": [
    "r1 = range(10)  # [0, 10) 범위, 간격 1\n",
    "print(r1)\n",
    "print(list(r1))"
   ]
  },
  {
   "cell_type": "code",
   "execution_count": 26,
   "metadata": {},
   "outputs": [
    {
     "name": "stdout",
     "output_type": "stream",
     "text": [
      "[5, 6, 7, 8, 9]\n"
     ]
    }
   ],
   "source": [
    "r2 = range(5, 10)  # [5, 10) 범위, 간격 1\n",
    "print(list(r2))"
   ]
  },
  {
   "cell_type": "code",
   "execution_count": 27,
   "metadata": {},
   "outputs": [
    {
     "name": "stdout",
     "output_type": "stream",
     "text": [
      "[-5, -3, -1, 1, 3]\n"
     ]
    }
   ],
   "source": [
    "r3 = range(-5, 5, 2)  # [-5, 5) 범위, 간격 2\n",
    "print(list(r3))"
   ]
  },
  {
   "cell_type": "code",
   "execution_count": 28,
   "metadata": {},
   "outputs": [
    {
     "name": "stdout",
     "output_type": "stream",
     "text": [
      "[3, 2, 1, 0, -1, -2]\n"
     ]
    }
   ],
   "source": [
    "r4 = range(3, -3, -1)  # 간격은 음수도 가능\n",
    "print(list(r4))"
   ]
  }
 ],
 "metadata": {
  "kernelspec": {
   "display_name": ".venv",
   "language": "python",
   "name": "python3"
  },
  "language_info": {
   "codemirror_mode": {
    "name": "ipython",
    "version": 3
   },
   "file_extension": ".py",
   "mimetype": "text/x-python",
   "name": "python",
   "nbconvert_exporter": "python",
   "pygments_lexer": "ipython3",
   "version": "3.12.2"
  }
 },
 "nbformat": 4,
 "nbformat_minor": 2
}
