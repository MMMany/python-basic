{
 "cells": [
  {
   "cell_type": "markdown",
   "metadata": {},
   "source": [
    "# Quiz.1 : 주어진 사전 데이터에 대해 아래 규칙들을 적용 후 출력하시오\n",
    "\n",
    "- 사전 데이터\n",
    "    ```python\n",
    "    items = {\n",
    "        'name': 'Peter',\n",
    "        'age': 22,\n",
    "        'favorite_foods': ['pizza', 'pasta']\n",
    "    }\n",
    "    ```\n",
    "- 규칙\n",
    "  - `name` 을 `Jackson` 으로 변경한다\n",
    "  - `age` 에 `5` 를 더한다\n",
    "  - `favorite_foods` 에 `hamburger` 를 추가한다\n",
    "  - 튜플 데이터 `('banana', 'orange', 'strawberry')` 를 `favorite_fruits` 키 값으로 저장한다\n",
    "- 출력\n",
    "  - `제 이름은 {name} 이고, 나이는 {age} 입니다.`\n",
    "  - `저는 {favorite_foods} 를 선호합니다.`\n",
    "  - `제가 가장 좋아하는 과일은 {fruits} 입니다.` (※ `favorite_fruits` 중 아무거나 하나를 출력)"
   ]
  },
  {
   "cell_type": "code",
   "execution_count": null,
   "metadata": {},
   "outputs": [],
   "source": []
  }
 ],
 "metadata": {
  "kernelspec": {
   "display_name": ".venv",
   "language": "python",
   "name": "python3"
  },
  "language_info": {
   "name": "python",
   "version": "3.12.2"
  }
 },
 "nbformat": 4,
 "nbformat_minor": 2
}
