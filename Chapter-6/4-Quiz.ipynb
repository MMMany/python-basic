{
 "cells": [
  {
   "cell_type": "markdown",
   "metadata": {},
   "source": [
    "# Quiz.1 : 주어진 리스트에 대해 아래 규칙들을 적용하고 출력하시오\n",
    "\n",
    "- 초기값 : `items = [5, 2, 9, 3, 2]`\n",
    "- 규칙\n",
    "  - 규칙-1 : `4`, `1` 을 `items` 에 추가\n",
    "  - 규칙-2 : `items` 에서 `9` 의 인덱스를 찾고, 그 위치에 `11` 을 추가\n",
    "  - 규칙-3 : `items` 맨 앞의 원소를 `items` 의 길이로 수정\n",
    "- 출력\n",
    "  - 출력-1 : `items` 의 맨 앞/뒤 원소를 제외하고 출력\n",
    "  - 출력-2 : `items` 의 합계를 출력\n",
    "  - 출력-3 : `items` 를 오름차순으로 정렬하여 출력"
   ]
  },
  {
   "cell_type": "code",
   "execution_count": null,
   "metadata": {},
   "outputs": [],
   "source": []
  }
 ],
 "metadata": {
  "kernelspec": {
   "display_name": ".venv",
   "language": "python",
   "name": "python3"
  },
  "language_info": {
   "codemirror_mode": {
    "name": "ipython",
    "version": 3
   },
   "file_extension": ".py",
   "mimetype": "text/x-python",
   "name": "python",
   "nbconvert_exporter": "python",
   "pygments_lexer": "ipython3",
   "version": "3.12.2"
  }
 },
 "nbformat": 4,
 "nbformat_minor": 2
}
