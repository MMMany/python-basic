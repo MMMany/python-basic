{
 "cells": [
  {
   "cell_type": "markdown",
   "metadata": {},
   "source": [
    "# Quiz.1 : 다음 집합들의 연산 결과를 출력하시오\n",
    "\n",
    "- 집합 `set_A = {100, 200, 300}`\n",
    "- 집합 `set_B = {300, 400, 500}`\n",
    "- 집합 `set_C = {100, 200, 300, 400}`\n",
    "- 출력\n",
    "  - `set_A` 와 `set_B` 의 합집합\n",
    "  - `set_B` 와 `set_C` 의 차집합\n",
    "  - `set_C` 와 `set_B` 의 차집합\n",
    "  - `set_A` 가 `set_C` 의 부분집합 인지 여부\n",
    "  - `set_A` 와 `set_B` 의 교집합"
   ]
  },
  {
   "cell_type": "code",
   "execution_count": null,
   "metadata": {},
   "outputs": [],
   "source": []
  }
 ],
 "metadata": {
  "kernelspec": {
   "display_name": ".venv",
   "language": "python",
   "name": "python3"
  },
  "language_info": {
   "codemirror_mode": {
    "name": "ipython",
    "version": 3
   },
   "file_extension": ".py",
   "mimetype": "text/x-python",
   "name": "python",
   "nbconvert_exporter": "python",
   "pygments_lexer": "ipython3",
   "version": "3.12.2"
  }
 },
 "nbformat": 4,
 "nbformat_minor": 2
}
