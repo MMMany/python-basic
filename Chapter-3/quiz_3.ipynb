{
 "cells": [
  {
   "cell_type": "markdown",
   "id": "4d1a407d-a258-479a-a9b4-ede0cc030303",
   "metadata": {},
   "source": [
    "# Quiz.1 : 두 변수의 산술 연산 결과를 출력하시오\n",
    "\n",
    "- 변수\n",
    "    - `num_a` = 30\n",
    "    - `num_b` = 4\n",
    "- 연산자\n",
    "    - `+` : 더하기\n",
    "    - `/` : 나누기\n",
    "    - `**` : 제곱\n",
    "    - `%` : 나머지"
   ]
  },
  {
   "cell_type": "code",
   "execution_count": null,
   "id": "8e98924f-b6e8-4aa4-ae9e-cfe0e421b734",
   "metadata": {},
   "outputs": [],
   "source": []
  },
  {
   "cell_type": "markdown",
   "id": "a4978031-644c-4253-a754-b40107053870",
   "metadata": {},
   "source": [
    "# Quiz.2 : 두 변수의 비교 연산 결과를 출력하시오\n",
    "\n",
    "- 변수\n",
    "    - `num_a` = 15\n",
    "    - `num_b` = 7\n",
    "- 연산자\n",
    "    - `A > B` : `A`가 `B`보다 크다.\n",
    "    - `A <= B` : `A`가 `B`보다 작거나 같다.\n",
    "    - `A != B` : `A`와 `B`는 같지 않다."
   ]
  },
  {
   "cell_type": "code",
   "execution_count": null,
   "id": "e3b5d711-7a49-4e8a-bd02-389017eb1ea6",
   "metadata": {},
   "outputs": [],
   "source": []
  }
 ],
 "metadata": {
  "kernelspec": {
   "display_name": "Python 3 (ipykernel)",
   "language": "python",
   "name": "python3"
  },
  "language_info": {
   "codemirror_mode": {
    "name": "ipython",
    "version": 3
   },
   "file_extension": ".py",
   "mimetype": "text/x-python",
   "name": "python",
   "nbconvert_exporter": "python",
   "pygments_lexer": "ipython3",
   "version": "3.12.2"
  }
 },
 "nbformat": 4,
 "nbformat_minor": 5
}
