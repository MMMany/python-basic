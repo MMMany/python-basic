{
 "cells": [
  {
   "cell_type": "markdown",
   "id": "de1a6699-25e0-4b8c-9396-013b02988b34",
   "metadata": {},
   "source": [
    "# Chapter 1 : 파이썬 소개"
   ]
  },
  {
   "cell_type": "markdown",
   "id": "36d4d84b-ccab-4be8-8c38-81011e080d61",
   "metadata": {},
   "source": [
    "## 1. 파이썬(Python) 이란?\n",
    "- 인터프리터<sup>[1](#Interpreter)</sup> 프로그래밍 언어\n",
    "- 직관적인 언어 디자인으로 학습이 쉬움\n",
    "- 다양하고 풍부한 라이브러리 지원\n",
    "- 프로그래밍 교육, 인공지능, 데이터 분석 등 다양한 분야에서 활용\n",
    "---\n",
    "1\\) <a name=\"Interpreter\">인터프리터(Interpreter)</a> : 코드를 한 줄씩 읽어 내려가며 실행하는 프로그램"
   ]
  },
  {
   "cell_type": "markdown",
   "id": "58713e79-87f2-4167-a132-9b7f3fd1d326",
   "metadata": {},
   "source": [
    "## 2. 파이썬 특징\n",
    "1. 들여쓰기 기반 코드 블록 처리\n",
    "    1. 자바스크립트 예시\n",
    "    ```javascript\n",
    "    function HelloWorld(message) { // 중괄호를 이용하여 코드 블록을 구분!\n",
    "        console.log(\"Hello World - \" + message);\n",
    "    }\n",
    "    HelloWorld(\"Javascript!\");  // Hello World - Javascript!\n",
    "    ```\n",
    "    <br>\n",
    "    \n",
    "    2. 파이썬 예시\n",
    "    ```python\n",
    "    def HelloWorld(message): # 들여쓰기를 이용하여 코드 블록을 구분!\n",
    "        # 보통 공백 4개가 사용됨\n",
    "        # 주의: 들여쓰기에 공백/탭(Tab)이 혼용해서는 안됨!\n",
    "        print(\"Hello World - \" + message)\n",
    "    HelloWorld(\"Python!\")  # Hello World - Python!\n",
    "    ```\n",
    "    <br>\n",
    "    \n",
    "3. 순수 객체 지향<br>\n",
    "*원시 타입*(*Primitive Type*)<sup>[1](#Primitive-type)</sup>이 존재하지 않으며, 모든 것을 *객체*(*Object*)<sup>[2](#Object)</sup>로 취급\n",
    "\n",
    "4. 변수 선언의 부재<br>\n",
    "대부분의 다른 언어들과 달리 변수 사용 전 미리 선언할 필요 없음\n",
    "\n",
    "    1. 자바스크립트 예시\n",
    "    ```javascript\n",
    "    function Show(a, b) {\n",
    "        // 변수 선언\n",
    "        let num1, num2;\n",
    "        // 값 할당\n",
    "        num1 = a;\n",
    "        num2 = b;\n",
    "        // 변수 사용\n",
    "        console.log(num1 * num2);\n",
    "    }\n",
    "    Show();  // 30\n",
    "    \n",
    "    function ShowError(a, b) {\n",
    "        // 값 할당\n",
    "        num1 = a;\n",
    "        num2 = b;\n",
    "        // 변수 사용\n",
    "        console.log(num1 * num2);\n",
    "    }\n",
    "    ShowError();  // Error!\n",
    "    ```\n",
    "    <br>\n",
    "\n",
    "    2. 파이썬 예시\n",
    "    ```python\n",
    "    def Show():\n",
    "        # 값 할당\n",
    "        a = 10 \n",
    "        b = 3\n",
    "        # 변수 사용\n",
    "        print(a * b)\n",
    "    Show()  # 30\n",
    "    ```\n",
    "    <br>\n",
    "\n",
    "---\n",
    "1\\) <a name=\"Primitive-type\">원시 타입(Primitive Type)</a> : 데이터를 저장하는 가장 작은 단위의 기본 자료형\n",
    "\n",
    "2\\) <a name=\"Object\">객체(Object)</a> : 클래스의 자료구조를 실제 메모리에 할당한 것"
   ]
  },
  {
   "cell_type": "markdown",
   "id": "e245b33a-6c1d-4151-bf4f-7395cb0f14f3",
   "metadata": {},
   "source": [
    "## 3. 맛보기\n",
    "\n",
    "아래 코드를 실행해보자!\n",
    "\n",
    "※ 아래 블럭을 클릭 후, \"Ctrl + Enter\"를 눌러 실행할 수 있다"
   ]
  },
  {
   "cell_type": "code",
   "execution_count": 1,
   "id": "0afdcbd6-a4e1-4e32-95c2-7415fe0f5eb0",
   "metadata": {},
   "outputs": [
    {
     "name": "stdout",
     "output_type": "stream",
     "text": [
      "네, 홀수입니다! (47)\n",
      "아니요, 홀수가 아닙니다... (12)\n"
     ]
    }
   ],
   "source": [
    "def is_odd(num):\n",
    "    if num % 2 == 1:\n",
    "        print(f'네, 홀수입니다! ({num})')\n",
    "    else:\n",
    "        print(f'아니요, 홀수가 아닙니다... ({num})')\n",
    "\n",
    "my_num = 47\n",
    "is_odd(my_num)\n",
    "\n",
    "my_num = 12\n",
    "is_odd(my_num)"
   ]
  }
 ],
 "metadata": {
  "kernelspec": {
   "display_name": "Python 3 (ipykernel)",
   "language": "python",
   "name": "python3"
  },
  "language_info": {
   "codemirror_mode": {
    "name": "ipython",
    "version": 3
   },
   "file_extension": ".py",
   "mimetype": "text/x-python",
   "name": "python",
   "nbconvert_exporter": "python",
   "pygments_lexer": "ipython3",
   "version": "3.12.2"
  }
 },
 "nbformat": 4,
 "nbformat_minor": 5
}
