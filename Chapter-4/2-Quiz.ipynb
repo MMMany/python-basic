{
 "cells": [
  {
   "cell_type": "markdown",
   "id": "2dc3c197-79a4-4606-b422-cf992367a936",
   "metadata": {},
   "source": [
    "# Quiz.1 : 두 변수에 대해 절대값과 3의 제곱 값을 출력하시오\n",
    "\n",
    "- 변수\n",
    "    - `A` = -7\n",
    "    - `B` = 5\n",
    "- 출력\n",
    "    - A의 절대값 = ??\n",
    "    - A의 3 제곱 = ??\n",
    "    - B의 절대값 = ??\n",
    "    - B의 3 제곱 = ??"
   ]
  },
  {
   "cell_type": "code",
   "execution_count": null,
   "id": "10093931-05a4-4ee4-bf89-4836113f6e31",
   "metadata": {},
   "outputs": [],
   "source": []
  },
  {
   "cell_type": "markdown",
   "id": "1b5720c1-6f68-41f3-a86e-3a6c88a7a181",
   "metadata": {},
   "source": [
    "# Quiz.2 : 다음 변수 중 가장 큰 값과 가장 작은 값을 출력하시오\n",
    "\n",
    "- 변수\n",
    "    - `A` = 32\n",
    "    - `B` = 13\n",
    "    - `C` = 57\n",
    "    - `D` = 56\n",
    "    - `E` = 27\n",
    "- 출력\n",
    "    - 가장 큰 값 = ??\n",
    "    - 가장 작은 값 = ??"
   ]
  },
  {
   "cell_type": "code",
   "execution_count": null,
   "id": "9e3999ce-b6d8-4e33-94e6-b005d6c6ae09",
   "metadata": {},
   "outputs": [],
   "source": []
  }
 ],
 "metadata": {
  "kernelspec": {
   "display_name": "Python 3 (ipykernel)",
   "language": "python",
   "name": "python3"
  },
  "language_info": {
   "codemirror_mode": {
    "name": "ipython",
    "version": 3
   },
   "file_extension": ".py",
   "mimetype": "text/x-python",
   "name": "python",
   "nbconvert_exporter": "python",
   "pygments_lexer": "ipython3",
   "version": "3.12.2"
  }
 },
 "nbformat": 4,
 "nbformat_minor": 5
}
