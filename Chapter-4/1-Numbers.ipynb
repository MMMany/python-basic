{
 "cells": [
  {
   "cell_type": "markdown",
   "id": "931533a8-1abc-448c-b86f-60e773bad43f",
   "metadata": {},
   "source": [
    "# Chapter 4 : 숫자 자료형 관련 유용한 함수\n",
    "\n",
    "- 숫자 자료형 `int`, `float` 에서 사용되는 유용한 함수를 소개합니다."
   ]
  },
  {
   "cell_type": "markdown",
   "id": "db827379-7598-4fb0-92f9-fb1d231eca07",
   "metadata": {},
   "source": [
    "## 1. 기본 내장형 함수\n",
    "\n",
    "- 파이썬에서는 숫자 자료형을 위한 내장된 함수가 있다.\n",
    "- `abs(N)` : `N`의 절대값\n",
    "- `pow(X, N)` : `X`의 `N`제곱\n",
    "- `max(A, B)` : `A`와 `B` 중 큰 값\n",
    "- `min(A, B)` : `A`와 `B` 중 작은 값\n",
    "- `round(N, I)` : `N`을 소숫점 `I`자리까지 반올림"
   ]
  },
  {
   "cell_type": "code",
   "execution_count": 1,
   "id": "801343b9-f2da-4742-bf93-8892d8cc9413",
   "metadata": {},
   "outputs": [
    {
     "name": "stdout",
     "output_type": "stream",
     "text": [
      "abs(-13) = 13\n",
      "pow(3, 3) = 27\n",
      "max(11, 22) = 22\n",
      "min(11, 22) = 11\n",
      "round(0.123456, 3) = 0.123\n",
      "round(0.787878, 3) = 0.788\n"
     ]
    }
   ],
   "source": [
    "print('abs(-13) =', abs(-13))  # 13\n",
    "print('pow(3, 3) =', pow(3, 3))  # 27\n",
    "print('max(11, 22) =', max(11, 22))  # 22\n",
    "print('min(11, 22) =', min(11, 22))  # 11\n",
    "print('round(0.123456, 3) =', round(0.123456, 3))  # 0.123\n",
    "print('round(0.787878, 3) =', round(0.787878, 3))  # 0.788"
   ]
  },
  {
   "cell_type": "markdown",
   "id": "ac1cf423-c033-46d0-b659-64f777964379",
   "metadata": {},
   "source": [
    "## 2. \"math\" 모듈\n",
    "\n",
    "- 파이썬 `math` 모듈은 숫자 자료형에 대한 여러 계산 함수가 있다.\n",
    "    - \"모듈\"에 대해서는 나중에 자세히 학습 할 예정\n",
    "- `math.floor(N)` : `N`보다 작은 정수로 내림\n",
    "- `math.ceil(N)` : `N`보다 큰 정수로 올림\n",
    "- `math.sqrt(N)` : `N`의 제곱근"
   ]
  },
  {
   "cell_type": "code",
   "execution_count": 2,
   "id": "6e173946-1ef5-4e78-8505-48237b9861b9",
   "metadata": {},
   "outputs": [
    {
     "name": "stdout",
     "output_type": "stream",
     "text": [
      "math.floor(3.14) = 3\n",
      "math.ceil(5.78) = 6\n",
      "math.sqrt(64) = 8.0\n"
     ]
    }
   ],
   "source": [
    "import math\n",
    "\n",
    "print('math.floor(3.14) =', math.floor(3.14))  # 3\n",
    "print('math.ceil(5.78) =', math.ceil(5.78))  # 6\n",
    "print('math.sqrt(64) =', math.sqrt(64))  # 8.0"
   ]
  },
  {
   "cell_type": "markdown",
   "id": "6bfc5b2e-2de0-4aef-86e5-00e2adcd23d9",
   "metadata": {},
   "source": [
    "## 3. \"random\" 모듈\n",
    "\n",
    "- 파이썬 `random` 모듈은 무작위 수를 구하기 위한 여러 함수를 제공한다.\n",
    "    - \"모듈\"에 대해서는 나중에 자세히 학습 할 예정\n",
    "- `random.random()` : `[0, 1)` 범위에서, 임의의 \"실수\" 생성\n",
    "- `random.randint(A, B)` : `[A, B]` 범위에서, 임의의 \"정수\" 생성\n",
    "- `random.randrange(N)` : `[0, N)` 범위에서, 임의의 \"정수\" 생성\n",
    "- `random.randrange(A, B)` : `[A, B)` 범위에서, 임의의 \"정수\" 생성\n",
    "- `random.randrange(A, B, I)` : `[A, B)` 범위에서, `A` 부터 `I` 간격의 정수 중 임의의 \"정수\" 생성"
   ]
  },
  {
   "cell_type": "code",
   "execution_count": 3,
   "id": "7cbd82a7-a476-4978-b125-86c031ce0e72",
   "metadata": {},
   "outputs": [
    {
     "name": "stdout",
     "output_type": "stream",
     "text": [
      "random.random() = 0.46765123570394684\n",
      "random.randint(0, 10) = 5\n",
      "random.randrange(5) = 0\n",
      "random.randrange(5, 10) = 5\n",
      "random.randrange(4, 8, 2) = 6\n"
     ]
    }
   ],
   "source": [
    "import random\n",
    "\n",
    "# 0 <= x < 1 범위의 값 반환\n",
    "print('random.random() =', random.random())\n",
    "\n",
    "# 0 <= x <= 10 범위의 값 반환\n",
    "print('random.randint(0, 10) =', random.randint(0, 10))\n",
    "\n",
    "# 0 <= x < 5 범위의 값 반환\n",
    "print('random.randrange(5) =', random.randrange(5))\n",
    "\n",
    "# 5 <= x < 10 범위의 값 반환\n",
    "print('random.randrange(5, 10) =', random.randrange(5, 10))\n",
    "\n",
    "# 4 <= x < 8 범위에서 4를 시작으로 2 간격의 값 중 하나 반환\n",
    "print('random.randrange(4, 8, 2) =', random.randrange(4, 8, 2))"
   ]
  }
 ],
 "metadata": {
  "kernelspec": {
   "display_name": "Python 3 (ipykernel)",
   "language": "python",
   "name": "python3"
  },
  "language_info": {
   "codemirror_mode": {
    "name": "ipython",
    "version": 3
   },
   "file_extension": ".py",
   "mimetype": "text/x-python",
   "name": "python",
   "nbconvert_exporter": "python",
   "pygments_lexer": "ipython3",
   "version": "3.12.2"
  }
 },
 "nbformat": 4,
 "nbformat_minor": 5
}
