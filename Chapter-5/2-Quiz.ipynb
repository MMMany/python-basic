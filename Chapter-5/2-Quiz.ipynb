{
 "cells": [
  {
   "cell_type": "markdown",
   "metadata": {},
   "source": [
    "# Quiz.1 : 주어진 문자열에서 'n'의 갯수를 출력하시오\n",
    "\n",
    "- 문자열 : `I can't do it... but, i think you can!`"
   ]
  },
  {
   "cell_type": "code",
   "execution_count": null,
   "metadata": {},
   "outputs": [],
   "source": []
  },
  {
   "cell_type": "markdown",
   "metadata": {},
   "source": [
    "# Quiz.2 : 주어진 문자열에서 특정 문자열의 내용을 바꿔서 출력하시오\n",
    "\n",
    "- 문자열 : `I love pizza so much!`\n",
    "- 수정 : `pizza` -> `hamburger`"
   ]
  },
  {
   "cell_type": "code",
   "execution_count": null,
   "metadata": {},
   "outputs": [],
   "source": []
  },
  {
   "cell_type": "markdown",
   "metadata": {},
   "source": [
    "# Quiz.3 : 주어진 문자열에 대해 다음 규칙들을 참고하여 결과를 출력하시오\n",
    "\n",
    "- 문자열 : `http://www.google.com`\n",
    "- 규칙-1 : `http://` 부분은 삭제\n",
    "- 규칙-2 : 문자열 `/api/send?key=123&sorted=false` 를 맨 뒤에 추가\n",
    "- 규칙-3 : 문자 `/` 의 갯수와 문자 `o`의 갯수를 서로 곱하여 출력"
   ]
  },
  {
   "cell_type": "code",
   "execution_count": null,
   "metadata": {},
   "outputs": [],
   "source": []
  }
 ],
 "metadata": {
  "kernelspec": {
   "display_name": ".venv",
   "language": "python",
   "name": "python3"
  },
  "language_info": {
   "codemirror_mode": {
    "name": "ipython",
    "version": 3
   },
   "file_extension": ".py",
   "mimetype": "text/x-python",
   "name": "python",
   "nbconvert_exporter": "python",
   "pygments_lexer": "ipython3",
   "version": "3.12.2"
  }
 },
 "nbformat": 4,
 "nbformat_minor": 2
}
