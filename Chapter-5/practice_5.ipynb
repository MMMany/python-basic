{
 "cells": [
  {
   "cell_type": "markdown",
   "metadata": {},
   "source": [
    "# Chapter 5 : 문자열 다루기\n",
    "\n",
    "문자열 데이터를 다루는 다양한 방법을 배워봅시다."
   ]
  },
  {
   "cell_type": "markdown",
   "metadata": {},
   "source": [
    "## 1. 문자열에 사용할 수 있는 연산자\n",
    "\n",
    "- 앞서 배운 연산자 중, \"이항 산술 연산자\" `+`, `*` 는 문자열에서도 사용할 수 있다.\n",
    "- `S1 + S2` : 문자열 `S1` 뒤에 문자열 `S2` 를 이어 붙여준다.\n",
    "- `S1 * N` : 문자열 `S1` 을 정수 `N` 개 만큼 생성하여 서로 이어 붙여준다."
   ]
  },
  {
   "cell_type": "code",
   "execution_count": 1,
   "metadata": {},
   "outputs": [
    {
     "name": "stdout",
     "output_type": "stream",
     "text": [
      "파이썬은 정말 재밌어요!\n",
      "우와! 우와! 우와! 우와! 우와! \n"
     ]
    }
   ],
   "source": [
    "message = '파이썬은 ' + '정말 ' + '재밌어요!'\n",
    "print(message)\n",
    "\n",
    "message = '우와! ' * 5\n",
    "print(message)"
   ]
  },
  {
   "cell_type": "markdown",
   "metadata": {},
   "source": [
    "## 2. 다양한 함수\n",
    "\n",
    "- 문자열 데이터를 다룰 때 자주 사용하는 \"함수\"를 배워봅시다.\n",
    "> \"함수\"는 나중에 자세히 다룰 예정입니다.\n",
    "\n",
    "---\n",
    "- `len(S1)` : 문자열 `S1` 의 길이를 반환"
   ]
  },
  {
   "cell_type": "code",
   "execution_count": 2,
   "metadata": {},
   "outputs": [
    {
     "name": "stdout",
     "output_type": "stream",
     "text": [
      "3\n",
      "10\n"
     ]
    }
   ],
   "source": [
    "my_name = '홍길동'\n",
    "print(len(my_name))\n",
    "\n",
    "my_name = 'Jason Mraz'\n",
    "print(len(my_name))"
   ]
  },
  {
   "cell_type": "markdown",
   "metadata": {},
   "source": [
    "- `str.lower(S1)` : 문자열 `S1` 의 모든 문자를 소문자로 변환\n",
    "- `str.upper(S1)` : 문자열 `S1` 의 모든 문자를 대문자로 변환"
   ]
  },
  {
   "cell_type": "code",
   "execution_count": 3,
   "metadata": {},
   "outputs": [
    {
     "name": "stdout",
     "output_type": "stream",
     "text": [
      "hello python world!\n",
      "HELLO PYTHON WORLD!\n"
     ]
    }
   ],
   "source": [
    "message = 'Hello Python World!'\n",
    "print(str.lower(message))\n",
    "print(message.upper())"
   ]
  },
  {
   "cell_type": "markdown",
   "metadata": {},
   "source": [
    "- `str.replace(S1, Old, New)` : 문자열 `S1` 에서 문자열 `Old` 를 문자열 `New` 로 변환"
   ]
  },
  {
   "cell_type": "code",
   "execution_count": 4,
   "metadata": {},
   "outputs": [
    {
     "name": "stdout",
     "output_type": "stream",
     "text": [
      "Gate: E13 / From: Incheon / To: Paris\n",
      "Gate: C47 / From: Incheon / To: Tokyo\n"
     ]
    }
   ],
   "source": [
    "ticket = 'Gate: E13 / From: Incheon / To: Tokyo'\n",
    "print(str.replace(ticket, 'Tokyo', 'Paris'))\n",
    "print(ticket.replace('E13', 'C47'))"
   ]
  },
  {
   "cell_type": "markdown",
   "metadata": {},
   "source": [
    "- `str.index(S1, T)` : 문자열 `S1` 에서 문자열 `T` 를 찾아서 해당 문자열의 시작 위치를 반환\n",
    "- `str.find(S1, T)` : `str.index()` 함수와 동일\n",
    "- 문자열 `T` 가 없는 경우, `-1` 을 반환"
   ]
  },
  {
   "cell_type": "code",
   "execution_count": 5,
   "metadata": {},
   "outputs": [
    {
     "name": "stdout",
     "output_type": "stream",
     "text": [
      "3\n",
      "3\n",
      "8\n",
      "8\n",
      "-1\n"
     ]
    }
   ],
   "source": [
    "message = 'This is sample message'\n",
    "print(str.index(message, 's'))\n",
    "print(str.find(message, 's'))\n",
    "\n",
    "print(message.index('sample'))\n",
    "print(message.find('sample'))\n",
    "\n",
    "print(message.find('python'))"
   ]
  },
  {
   "cell_type": "markdown",
   "metadata": {},
   "source": [
    "- `str.count(S1, T)` : 문자열 `S1` 에서 문자열 `T` 의 갯수를 반환"
   ]
  },
  {
   "cell_type": "code",
   "execution_count": 6,
   "metadata": {},
   "outputs": [
    {
     "name": "stdout",
     "output_type": "stream",
     "text": [
      "3\n",
      "3\n",
      "1\n"
     ]
    }
   ],
   "source": [
    "fruits = 'banana'\n",
    "print(str.count(fruits, 'a'))\n",
    "print(fruits.count('a'))\n",
    "print(fruits.count('ana'))"
   ]
  },
  {
   "cell_type": "markdown",
   "metadata": {},
   "source": [
    "- `str.split(S1, T)` : 문자열 `S1` 을 문자열 `T` 를 기준으로 분할"
   ]
  },
  {
   "cell_type": "code",
   "execution_count": 7,
   "metadata": {},
   "outputs": [
    {
     "name": "stdout",
     "output_type": "stream",
     "text": [
      "['apple', ' orange', ' banana', ' kiwi']\n",
      "['apple', 'orange', 'banana', 'kiwi']\n",
      "['', 'Hello', 'My name is John', 'Nice to meet you', '']\n"
     ]
    }
   ],
   "source": [
    "fruits = 'apple, orange, banana, kiwi'\n",
    "print(str.split(fruits, ','))\n",
    "print(fruits.split(', '))\n",
    "\n",
    "message = '''\n",
    "Hello\n",
    "My name is John\n",
    "Nice to meet you\n",
    "'''\n",
    "print(message.split('\\n'))  # '\\n' 은 \"이스케이프\" 문자라고 하며, 아래에서 자세히 다룰 예정"
   ]
  },
  {
   "cell_type": "markdown",
   "metadata": {},
   "source": [
    "- `str.strip(S1)` : 문자열 `S1` 의 맨 앞/뒤의 공백을 제거\n",
    "- `str.lstrip(S1)` : 문자열 `S1` 의 맨 앞의 공백을 제거\n",
    "- `str.rstrip(S1)` : 문자열 `S1` 의 맨 뒤의 공백을 제거"
   ]
  },
  {
   "cell_type": "code",
   "execution_count": 8,
   "metadata": {},
   "outputs": [
    {
     "name": "stdout",
     "output_type": "stream",
     "text": [
      "this is sample message\n",
      "this is sample message\n",
      "this is sample message     \n",
      "     this is sample message\n"
     ]
    }
   ],
   "source": [
    "message = '     this is sample message     '\n",
    "print(str.strip(message))\n",
    "print(message.strip())\n",
    "\n",
    "print(message.lstrip())  # 아래 출력을 마우스 드래그 해보면, 오른쪽 공백이 남아 있음\n",
    "print(message.rstrip())"
   ]
  },
  {
   "cell_type": "markdown",
   "metadata": {},
   "source": [
    "- `str.startswith(S1, T)` : 문자열 `S1` 이 문자열 `T` 로 시작되는지 여부 반환\n",
    "- `str.endswith(S1, T)` : 문자열 `S1` 이 문자열 `T` 로 끝나는지 여부 반환"
   ]
  },
  {
   "cell_type": "code",
   "execution_count": 9,
   "metadata": {},
   "outputs": [
    {
     "name": "stdout",
     "output_type": "stream",
     "text": [
      "True\n",
      "False\n"
     ]
    }
   ],
   "source": [
    "message = 'My name is John'\n",
    "print(str.startswith(message, 'My'))\n",
    "print(message.endswith('Mike'))"
   ]
  },
  {
   "cell_type": "markdown",
   "metadata": {},
   "source": [
    "- `str.join(T, Iterable[str])` : 문자열 `T` 를 기준으로 문자열 모음을 서로 연결\n",
    "- `Iterable` 은 \"반복 가능한\" 이라는 뜻으로, \"6장, 자료구조\"에서 자세히 다룰 예정"
   ]
  },
  {
   "cell_type": "code",
   "execution_count": 10,
   "metadata": {},
   "outputs": [
    {
     "name": "stdout",
     "output_type": "stream",
     "text": [
      "Hello-Python-World!\n",
      "banana, apple, orange\n"
     ]
    }
   ],
   "source": [
    "print(str.join('-', ['Hello', 'Python', 'World!']))\n",
    "print(', '.join(('banana', 'apple', 'orange')))"
   ]
  },
  {
   "cell_type": "markdown",
   "metadata": {},
   "source": [
    "- `str.isdecimal(S1)` : 문자열 `S1` 이 \"0 ~ 9\" 까지 숫자 문자로만 이루어져 있는지 여부 반환\n",
    "- 주로 `int` 자료형으로 형 변환이 가능한지 확인할 때 사용"
   ]
  },
  {
   "cell_type": "code",
   "execution_count": 11,
   "metadata": {},
   "outputs": [
    {
     "name": "stdout",
     "output_type": "stream",
     "text": [
      "True\n",
      "False\n",
      "-222\n"
     ]
    }
   ],
   "source": [
    "number = '1234'\n",
    "print(str.isdecimal(number))\n",
    "print('-222'.isdecimal())\n",
    "\n",
    "# Tip! : 음수 숫자 문자열은 앞서 배운 \"startswith()\" 함수를 조합하여\n",
    "# int 자료형 변환이 가능한지 확인 할 수 있음\n",
    "number = '-222'\n",
    "if number.startswith('-') and number[1:].isdecimal():\n",
    "    # 'number[1:]' 과 같은 사용법은, \"6장, 자료구조\"에서 자세히 다룰 예정\n",
    "    # 'if' 조건문은, \"7장, 흐름 제어\"에서 자세히 다룰 예정\n",
    "    print(int(number))"
   ]
  },
  {
   "cell_type": "markdown",
   "metadata": {},
   "source": [
    "## 3. 문자열 포맷팅(formatting)\n",
    "\n",
    "- 문자열 안에 어떤 값을 넣어서 새로운 문자열을 만드는 방법"
   ]
  },
  {
   "cell_type": "markdown",
   "metadata": {},
   "source": [
    "1. `%` 포맷 코드를 이용한 포맷팅\n",
    "\n",
    "|포맷 코드|의미|\n",
    "|:---:|---|\n",
    "|`%s`|문자열(string)|\n",
    "|`%c`|문자(character)|\n",
    "|`%d`|정수(interger)|\n",
    "|`%f`|부동 소수점(floating-point)|\n",
    "|`%x`|16진수|\n",
    "|`%%`|문자 `%`|"
   ]
  },
  {
   "cell_type": "code",
   "execution_count": 12,
   "metadata": {},
   "outputs": [
    {
     "name": "stdout",
     "output_type": "stream",
     "text": [
      "제 이름은 홍길동 입니다.\n",
      "나이는 23 살 입니다.\n",
      "제 취미는 축구, 영화 감상 입니다.\n",
      "비율은 12% 입니다.\n"
     ]
    }
   ],
   "source": [
    "my_name = '홍길동'\n",
    "print('제 이름은 %s 입니다.' % my_name)\n",
    "\n",
    "age = 23\n",
    "print('나이는 %d 살 입니다.' % age)\n",
    "\n",
    "habit_1 = '축구'\n",
    "habit_2 = '영화 감상'\n",
    "print('제 취미는 %s, %s 입니다.' % (habit_1, habit_2))\n",
    "\n",
    "# '%'를 사용하고 싶을 땐, '%%'를 사용\n",
    "print('비율은 %d%% 입니다.' % 12)"
   ]
  },
  {
   "cell_type": "markdown",
   "metadata": {},
   "source": [
    "2. `%` 포맷 코드, 고급 사용법\n",
    "\n",
    "- 정렬 / 공백"
   ]
  },
  {
   "cell_type": "code",
   "execution_count": 13,
   "metadata": {},
   "outputs": [
    {
     "name": "stdout",
     "output_type": "stream",
     "text": [
      "        hi\n",
      "hi        \n",
      "hi        mike\n",
      "age:        23\n",
      "hello world\n"
     ]
    }
   ],
   "source": [
    "# 삽입 할 데이터를, 길이 10 문자열에 우측 정렬하여 삽입 (남은 공간은 공백으로 채움)\n",
    "print('%10s' % 'hi')\n",
    "\n",
    "# 숫자 앞에 '-'를 붙이면 좌측 정렬\n",
    "print('%-10s' % 'hi')\n",
    "print('%-10smike' % 'hi')\n",
    "print('age:%10d' % 23)\n",
    "\n",
    "# 지정한 크기를 넘어가면, 크기를 무시하고 그냥 삽입함\n",
    "print('%-5s' % 'hello world')"
   ]
  },
  {
   "cell_type": "markdown",
   "metadata": {},
   "source": [
    "- 소수점 표현"
   ]
  },
  {
   "cell_type": "code",
   "execution_count": 14,
   "metadata": {},
   "outputs": [
    {
     "name": "stdout",
     "output_type": "stream",
     "text": [
      "3.142\n",
      "      3.14\n"
     ]
    }
   ],
   "source": [
    "# 삽입 할 소수점 데이터를, 3번째 자리까지 반올림\n",
    "print('%0.3f' % 3.14159265)\n",
    "\n",
    "# 길이 10, 우측 정렬, 소수점 2번째 자리까지 반올림\n",
    "print('%10.2f' % 3.14159265)"
   ]
  },
  {
   "cell_type": "markdown",
   "metadata": {},
   "source": [
    "> 포맷 코드 규칙 정리\n",
    "> > `%[-]x[.y]f`\n",
    "> > - `[-]` : 좌/우 정렬\n",
    "> > - `x` : 길이\n",
    "> > - `[.y]` : 소수점 반올림, `%f` 에서만 사용\n",
    "> > - `[]` 로 묶은 부분은 생략이 가능하다는 의미"
   ]
  },
  {
   "cell_type": "markdown",
   "metadata": {},
   "source": [
    "3. `str.format()` 함수를 이용한 포맷팅\n",
    "\n",
    "- 기본 사용법"
   ]
  },
  {
   "cell_type": "code",
   "execution_count": 15,
   "metadata": {},
   "outputs": [
    {
     "name": "stdout",
     "output_type": "stream",
     "text": [
      "제 이름은 Jason 입니다.\n",
      "저는 32 살 입니다.\n",
      "제 취미는 음악 감상, 농구 입니다.\n",
      "제 취미는 농구, 음악 감상 입니다.\n",
      "저는 수원, 대한민국 에 살고 있습니다.\n",
      "제가 좋아하는 과일은 귤, 바나나, 사과 입니다.\n",
      "가격은 { 3500 } 원 입니다.\n"
     ]
    }
   ],
   "source": [
    "# 자료형을 크게 신경쓰지 않고 사용할 수 있음\n",
    "print('제 이름은 {} 입니다.'.format('Jason'))\n",
    "print('저는 {} 살 입니다.'.format(32))\n",
    "\n",
    "# 인덱스(index)를 이용하여 데이터를 삽입\n",
    "print('제 취미는 {1}, {0} 입니다.'.format('농구', '음악 감상'))\n",
    "# 인덱스가 없으면 들어온 순서대로 삽입\n",
    "print('제 취미는 {}, {} 입니다.'.format('농구', '음악 감상'))\n",
    "\n",
    "# 이름으로도 삽입할 수 있음\n",
    "print('저는 {city}, {country} 에 살고 있습니다.'.format(city='수원', country='대한민국'))\n",
    "\n",
    "# 인덱스와 이름을 혼용할 수 있음\n",
    "# 단, 'format()' 함수에 '인덱스 > 이름' 순으로 전달해야함\n",
    "print('제가 좋아하는 과일은 {0}, {1}, {it} 입니다.'.format('귤', '바나나', it='사과'))\n",
    "\n",
    "# '{', '}' 를 추가하고 싶을 땐, '{{', '}}' 로 사용\n",
    "print('가격은 {{ {0} }} 원 입니다.'.format(3500))"
   ]
  },
  {
   "cell_type": "markdown",
   "metadata": {},
   "source": [
    "- 정렬 / 공백"
   ]
  },
  {
   "cell_type": "code",
   "execution_count": 16,
   "metadata": {},
   "outputs": [
    {
     "name": "stdout",
     "output_type": "stream",
     "text": [
      "hi        \n",
      "        hi\n",
      "    hi    \n",
      "----hi----\n",
      "hi........\n"
     ]
    }
   ],
   "source": [
    "# 좌측 정렬, 길이 10\n",
    "print('{0:<10}'.format('hi'))\n",
    "\n",
    "# 우측 정렬, 길이 10\n",
    "print('{0:>10}'.format('hi'))\n",
    "\n",
    "# 중앙 정렬, 길이 10\n",
    "print('{0:^10}'.format('hi'))\n",
    "\n",
    "# 공백 채우기\n",
    "print('{0:-^10}'.format('hi'))  # 좌우 공백에 '-' 채움\n",
    "print('{0:.<10}'.format('hi'))  # 우측 공백에 '.' 채움"
   ]
  },
  {
   "cell_type": "markdown",
   "metadata": {},
   "source": [
    "- 소수점 표현"
   ]
  },
  {
   "cell_type": "code",
   "execution_count": 17,
   "metadata": {},
   "outputs": [
    {
     "name": "stdout",
     "output_type": "stream",
     "text": [
      "3.1416\n",
      "~~~3.14~~~\n"
     ]
    }
   ],
   "source": [
    "# 소수점 4번째 자리까지 반올림\n",
    "print('{0:0.4f}'.format(3.14159265))\n",
    "\n",
    "# '~' 공백 채우기, 가운데 정렬, 길이 10, 소수점 2번째 자리까지 반올림\n",
    "print('{0:~^10.2f}'.format(3.14159265))"
   ]
  },
  {
   "cell_type": "markdown",
   "metadata": {},
   "source": [
    "4. f 문자열 포맷팅\n",
    "    - 문자열 앞에 `f` 접두사를 붙여서 사용\n",
    "\n",
    "> ※ 파이썬 3.6 버전부터 사용 가능"
   ]
  },
  {
   "cell_type": "code",
   "execution_count": 18,
   "metadata": {},
   "outputs": [
    {
     "name": "stdout",
     "output_type": "stream",
     "text": [
      "제 이름은 홍길동 입니다.\n",
      "제 이름은 홍길동 이고, 나이는 24 입니다.\n",
      "내년에는 25 살이 됩니다.\n",
      "123       \n",
      "       123\n",
      "   123    \n",
      "===123====\n",
      "3.14\n",
      "{ and }\n"
     ]
    }
   ],
   "source": [
    "# 문자열 앞에 'f'를 붙이고, 중괄호 안에 데이터를 넣는다\n",
    "print(f'제 이름은 {\"홍길동\"} 입니다.')  # '문자열' 안에 문자열을 넣기 위해 \"\"을 사용했다\n",
    "\n",
    "# 변수도 넣을 수 있다\n",
    "name = '홍길동'\n",
    "age = 24\n",
    "print(f'제 이름은 {name} 이고, 나이는 {age} 입니다.')\n",
    "\n",
    "# 값 또는 변수에 연산한 결과를 넣을 수 있다\n",
    "print(f'내년에는 {age + 1} 살이 됩니다.')\n",
    "\n",
    "# \"format()\"\" 함수와 동일한 방법으로 \"정렬\", \"공백 채우기\", \"소수점 표현\"이 가능하다\n",
    "print(f'{123:<10}')  # 좌측 정렬\n",
    "print(f'{123:>10}')  # 우측 정렬\n",
    "print(f'{123:^10}')  # 중앙 정렬\n",
    "print(f'{123:=^10}') # 공백 채우기\n",
    "print(f'{3.14159265:0.3}')  # 소수점 표현\n",
    "\n",
    "# 문자열에 중괄호를 사용하는 것도 \"format()\" 함수와 방식이 동일하다\n",
    "print(f'{{ and }}')"
   ]
  },
  {
   "cell_type": "markdown",
   "metadata": {},
   "source": [
    "5. 이스케이프 문자 (escape character)\n",
    "\n",
    "|기호|의미|\n",
    "|:---:|---|\n",
    "|`\\n`|줄 바꿈|\n",
    "|`\\t`|탭(Tab)|\n",
    "|`\\'`|작은 따옴표(')|\n",
    "|`\\\"`|큰 따옴표(\")|\n",
    "|`\\\\`|백 슬래쉬(\\\\)|\n",
    "\n",
    "※ 이스케이프 문자의 길이는 `2` 로 보이지만, 이름 그대로 \"문자\"이므로 길이가 `1` 이다."
   ]
  },
  {
   "cell_type": "code",
   "execution_count": 19,
   "metadata": {},
   "outputs": [
    {
     "name": "stdout",
     "output_type": "stream",
     "text": [
      "Hello\n",
      "Python!\n",
      "Hello\tPython!\n",
      "Hello 'Python'\n",
      "Hello \"Python\"\n",
      "Hello \\ Python\n"
     ]
    }
   ],
   "source": [
    "# 줄 바꿈\n",
    "print('Hello\\nPython!')\n",
    "\n",
    "# 탭\n",
    "print('Hello\\tPython!')\n",
    "\n",
    "# 따옴표\n",
    "print('Hello \\'Python\\'')\n",
    "print(\"Hello \\\"Python\\\"\")\n",
    "\n",
    "# 백 슬래쉬\n",
    "print('Hello \\\\ Python')"
   ]
  },
  {
   "cell_type": "markdown",
   "metadata": {},
   "source": [
    "6. Raw string\n",
    "    - 작성한 문자열 그대로를 쓰고 싶을 때 사용\n",
    "    - 주로 `\\`, `%` 처럼 이스케이프 문자나 포맷 코드의 적용을 무시하기 위해서 사용"
   ]
  },
  {
   "cell_type": "code",
   "execution_count": 20,
   "metadata": {},
   "outputs": [
    {
     "name": "stdout",
     "output_type": "stream",
     "text": [
      "Hello\n",
      "World\n",
      "Hello\\nWorld\n"
     ]
    }
   ],
   "source": [
    "print('Hello\\nWorld')\n",
    "print(r'Hello\\nWorld')"
   ]
  }
 ],
 "metadata": {
  "kernelspec": {
   "display_name": ".venv",
   "language": "python",
   "name": "python3"
  },
  "language_info": {
   "codemirror_mode": {
    "name": "ipython",
    "version": 3
   },
   "file_extension": ".py",
   "mimetype": "text/x-python",
   "name": "python",
   "nbconvert_exporter": "python",
   "pygments_lexer": "ipython3",
   "version": "3.12.2"
  }
 },
 "nbformat": 4,
 "nbformat_minor": 2
}
